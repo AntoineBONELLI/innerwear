{
 "cells": [
  {
   "cell_type": "code",
   "execution_count": 1,
   "metadata": {},
   "outputs": [],
   "source": [
    "#Importing relevant libraries\n",
    "\n",
    "import pandas as pd\n",
    "import numpy as np\n",
    "import matplotlib.pyplot as plt \n",
    "import seaborn as sns\n",
    "\n",
    "%matplotlib inline\n",
    "sns.set()"
   ]
  },
  {
   "cell_type": "markdown",
   "metadata": {},
   "source": [
    "----\n",
    "###  Playing with all datasets\n",
    "\n",
    "#### Loading dataset into dataframe objects"
   ]
  },
  {
   "cell_type": "code",
   "execution_count": 2,
   "metadata": {},
   "outputs": [],
   "source": [
    "df_ae = pd.read_csv('data/ae_com.csv')\n",
    "df_amz = pd.read_csv('data/amazon_com.csv')\n",
    "df_temp = pd.read_csv('data/btemptd_com.csv')\n",
    "df_klein = pd.read_csv('data/calvinklein_com.csv')\n",
    "df_hanky = pd.read_csv('data/hankypanky_com.csv')\n",
    "df_macys = pd.read_csv('data/macys_com.csv')\n",
    "df_nord = pd.read_csv('data/shop_nordstrom_com.csv')\n",
    "df_top = pd.read_csv('data/us_topshop_com.csv')\n",
    "df_vic = pd.read_csv('data/victoriassecret_com.csv')"
   ]
  },
  {
   "cell_type": "code",
   "execution_count": 3,
   "metadata": {},
   "outputs": [],
   "source": [
    "#Saving all dataframes into a list\n",
    "df_list = [df_ae, df_amz, df_temp, df_klein, df_hanky, df_macys, df_nord, df_top, df_vic]"
   ]
  },
  {
   "cell_type": "code",
   "execution_count": 4,
   "metadata": {},
   "outputs": [
    {
     "name": "stdout",
     "output_type": "stream",
     "text": [
      "['Ae US'] \n",
      "\n",
      "DataFrame Info : \n",
      "\n",
      "<class 'pandas.core.frame.DataFrame'>\n",
      "RangeIndex: 28328 entries, 0 to 28327\n",
      "Data columns (total 14 columns):\n",
      " #   Column            Non-Null Count  Dtype  \n",
      "---  ------            --------------  -----  \n",
      " 0   product_name      28328 non-null  object \n",
      " 1   mrp               28328 non-null  object \n",
      " 2   price             28328 non-null  object \n",
      " 3   pdp_url           28328 non-null  object \n",
      " 4   brand_name        28328 non-null  object \n",
      " 5   product_category  28328 non-null  object \n",
      " 6   retailer          28328 non-null  object \n",
      " 7   description       28328 non-null  object \n",
      " 8   rating            21125 non-null  float64\n",
      " 9   review_count      9590 non-null   float64\n",
      " 10  style_attributes  28328 non-null  object \n",
      " 11  total_sizes       28328 non-null  object \n",
      " 12  available_size    28328 non-null  object \n",
      " 13  color             28328 non-null  object \n",
      "dtypes: float64(2), object(12)\n",
      "memory usage: 3.0+ MB\n",
      "None\n",
      "_________________________________________________________ \n",
      "\n",
      "['Amazon US'] \n",
      "\n",
      "DataFrame Info : \n",
      "\n",
      "<class 'pandas.core.frame.DataFrame'>\n",
      "RangeIndex: 31612 entries, 0 to 31611\n",
      "Data columns (total 14 columns):\n",
      " #   Column            Non-Null Count  Dtype  \n",
      "---  ------            --------------  -----  \n",
      " 0   product_name      31612 non-null  object \n",
      " 1   mrp               31612 non-null  object \n",
      " 2   price             31612 non-null  object \n",
      " 3   pdp_url           31612 non-null  object \n",
      " 4   brand_name        31612 non-null  object \n",
      " 5   product_category  31612 non-null  object \n",
      " 6   retailer          31612 non-null  object \n",
      " 7   description       31612 non-null  object \n",
      " 8   rating            31612 non-null  float64\n",
      " 9   review_count      31612 non-null  int64  \n",
      " 10  style_attributes  31612 non-null  object \n",
      " 11  total_sizes       31612 non-null  object \n",
      " 12  available_size    31612 non-null  object \n",
      " 13  color             31612 non-null  object \n",
      "dtypes: float64(1), int64(1), object(12)\n",
      "memory usage: 3.4+ MB\n",
      "None\n",
      "_________________________________________________________ \n",
      "\n",
      "['Btemptd US'] \n",
      "\n",
      "DataFrame Info : \n",
      "\n",
      "<class 'pandas.core.frame.DataFrame'>\n",
      "RangeIndex: 3518 entries, 0 to 3517\n",
      "Data columns (total 14 columns):\n",
      " #   Column            Non-Null Count  Dtype  \n",
      "---  ------            --------------  -----  \n",
      " 0   product_name      3518 non-null   object \n",
      " 1   mrp               3518 non-null   object \n",
      " 2   price             3518 non-null   object \n",
      " 3   pdp_url           3518 non-null   object \n",
      " 4   brand_name        3518 non-null   object \n",
      " 5   product_category  3518 non-null   object \n",
      " 6   retailer          3518 non-null   object \n",
      " 7   description       3518 non-null   object \n",
      " 8   rating            0 non-null      float64\n",
      " 9   review_count      0 non-null      float64\n",
      " 10  style_attributes  3518 non-null   object \n",
      " 11  total_sizes       3518 non-null   object \n",
      " 12  available_size    3518 non-null   object \n",
      " 13  color             3518 non-null   object \n",
      "dtypes: float64(2), object(12)\n",
      "memory usage: 384.9+ KB\n",
      "None\n",
      "_________________________________________________________ \n",
      "\n",
      "['Calvin Klein US'] \n",
      "\n",
      "DataFrame Info : \n",
      "\n",
      "<class 'pandas.core.frame.DataFrame'>\n",
      "RangeIndex: 4747 entries, 0 to 4746\n",
      "Data columns (total 14 columns):\n",
      " #   Column            Non-Null Count  Dtype  \n",
      "---  ------            --------------  -----  \n",
      " 0   product_name      4747 non-null   object \n",
      " 1   mrp               4747 non-null   object \n",
      " 2   price             4747 non-null   object \n",
      " 3   pdp_url           4747 non-null   object \n",
      " 4   brand_name        4747 non-null   object \n",
      " 5   product_category  4747 non-null   object \n",
      " 6   retailer          4747 non-null   object \n",
      " 7   description       4747 non-null   object \n",
      " 8   rating            0 non-null      float64\n",
      " 9   review_count      0 non-null      float64\n",
      " 10  style_attributes  4747 non-null   object \n",
      " 11  total_sizes       4747 non-null   object \n",
      " 12  available_size    4747 non-null   object \n",
      " 13  color             4747 non-null   object \n",
      "dtypes: float64(2), object(12)\n",
      "memory usage: 519.3+ KB\n",
      "None\n",
      "_________________________________________________________ \n",
      "\n",
      "['Hankypanky US'] \n",
      "\n",
      "DataFrame Info : \n",
      "\n",
      "<class 'pandas.core.frame.DataFrame'>\n",
      "RangeIndex: 35005 entries, 0 to 35004\n",
      "Data columns (total 14 columns):\n",
      " #   Column            Non-Null Count  Dtype  \n",
      "---  ------            --------------  -----  \n",
      " 0   product_name      35005 non-null  object \n",
      " 1   mrp               35005 non-null  object \n",
      " 2   price             35005 non-null  object \n",
      " 3   pdp_url           35005 non-null  object \n",
      " 4   brand_name        35005 non-null  object \n",
      " 5   product_category  35005 non-null  object \n",
      " 6   retailer          35005 non-null  object \n",
      " 7   description       35005 non-null  object \n",
      " 8   rating            8849 non-null   float64\n",
      " 9   review_count      8849 non-null   float64\n",
      " 10  style_attributes  35005 non-null  object \n",
      " 11  total_sizes       35005 non-null  object \n",
      " 12  available_size    35005 non-null  object \n",
      " 13  color             35005 non-null  object \n",
      "dtypes: float64(2), object(12)\n",
      "memory usage: 3.7+ MB\n",
      "None\n",
      "_________________________________________________________ \n",
      "\n",
      "['Macys US'] \n",
      "\n",
      "DataFrame Info : \n",
      "\n",
      "<class 'pandas.core.frame.DataFrame'>\n",
      "RangeIndex: 40897 entries, 0 to 40896\n",
      "Data columns (total 14 columns):\n",
      " #   Column            Non-Null Count  Dtype  \n",
      "---  ------            --------------  -----  \n",
      " 0   product_name      40897 non-null  object \n",
      " 1   mrp               40897 non-null  object \n",
      " 2   price             40897 non-null  object \n",
      " 3   pdp_url           40897 non-null  object \n",
      " 4   brand_name        40897 non-null  object \n",
      " 5   product_category  40897 non-null  object \n",
      " 6   retailer          40897 non-null  object \n",
      " 7   description       40897 non-null  object \n",
      " 8   rating            26092 non-null  float64\n",
      " 9   review_count      26101 non-null  float64\n",
      " 10  style_attributes  40897 non-null  object \n",
      " 11  total_sizes       40897 non-null  object \n",
      " 12  available_size    40897 non-null  object \n",
      " 13  color             40897 non-null  object \n",
      "dtypes: float64(2), object(12)\n",
      "memory usage: 4.4+ MB\n",
      "None\n",
      "_________________________________________________________ \n",
      "\n",
      "['Nordstrom US'] \n",
      "\n",
      "DataFrame Info : \n",
      "\n",
      "<class 'pandas.core.frame.DataFrame'>\n",
      "RangeIndex: 12568 entries, 0 to 12567\n",
      "Data columns (total 14 columns):\n",
      " #   Column            Non-Null Count  Dtype  \n",
      "---  ------            --------------  -----  \n",
      " 0   product_name      12568 non-null  object \n",
      " 1   mrp               12568 non-null  object \n",
      " 2   price             12568 non-null  object \n",
      " 3   pdp_url           12568 non-null  object \n",
      " 4   brand_name        12568 non-null  object \n",
      " 5   product_category  12568 non-null  object \n",
      " 6   retailer          12568 non-null  object \n",
      " 7   description       12568 non-null  object \n",
      " 8   rating            7878 non-null   float64\n",
      " 9   review_count      7878 non-null   float64\n",
      " 10  style_attributes  12568 non-null  object \n",
      " 11  total_sizes       12568 non-null  object \n",
      " 12  available_size    12568 non-null  object \n",
      " 13  color             12568 non-null  object \n",
      "dtypes: float64(2), object(12)\n",
      "memory usage: 1.3+ MB\n",
      "None\n",
      "_________________________________________________________ \n",
      "\n",
      "['Topshop US'] \n",
      "\n",
      "DataFrame Info : \n",
      "\n",
      "<class 'pandas.core.frame.DataFrame'>\n",
      "RangeIndex: 3082 entries, 0 to 3081\n",
      "Data columns (total 14 columns):\n",
      " #   Column            Non-Null Count  Dtype  \n",
      "---  ------            --------------  -----  \n",
      " 0   product_name      3082 non-null   object \n",
      " 1   mrp               3082 non-null   object \n",
      " 2   price             3082 non-null   object \n",
      " 3   pdp_url           3082 non-null   object \n",
      " 4   brand_name        3082 non-null   object \n",
      " 5   product_category  3082 non-null   object \n",
      " 6   retailer          3082 non-null   object \n",
      " 7   description       3082 non-null   object \n",
      " 8   rating            266 non-null    float64\n",
      " 9   review_count      266 non-null    float64\n",
      " 10  style_attributes  0 non-null      float64\n",
      " 11  total_sizes       3082 non-null   object \n",
      " 12  available_size    3082 non-null   object \n",
      " 13  color             2405 non-null   object \n",
      "dtypes: float64(3), object(11)\n",
      "memory usage: 337.2+ KB\n",
      "None\n",
      "_________________________________________________________ \n",
      "\n",
      "['Victoriassecret US'] \n",
      "\n",
      "DataFrame Info : \n",
      "\n",
      "<class 'pandas.core.frame.DataFrame'>\n",
      "RangeIndex: 453386 entries, 0 to 453385\n",
      "Data columns (total 14 columns):\n",
      " #   Column            Non-Null Count   Dtype  \n",
      "---  ------            --------------   -----  \n",
      " 0   product_name      453386 non-null  object \n",
      " 1   mrp               453386 non-null  object \n",
      " 2   price             453386 non-null  object \n",
      " 3   pdp_url           453386 non-null  object \n",
      " 4   brand_name        453386 non-null  object \n",
      " 5   product_category  453386 non-null  object \n",
      " 6   retailer          453386 non-null  object \n",
      " 7   description       453386 non-null  object \n",
      " 8   rating            137734 non-null  float64\n",
      " 9   review_count      137734 non-null  float64\n",
      " 10  style_attributes  0 non-null       float64\n",
      " 11  total_sizes       453386 non-null  object \n",
      " 12  available_size    453386 non-null  object \n",
      " 13  color             453386 non-null  object \n",
      "dtypes: float64(3), object(11)\n",
      "memory usage: 48.4+ MB\n",
      "None\n",
      "_________________________________________________________ \n",
      "\n"
     ]
    }
   ],
   "source": [
    "#Printing info for every df. We can observe that they all have the sames columns.\n",
    "for i in df_list:\n",
    "    print (i.retailer.unique(), '\\n')\n",
    "    print ('DataFrame Info : \\n')\n",
    "    print (i.info())\n",
    "    print ('_________________________________________________________ \\n')"
   ]
  },
  {
   "cell_type": "code",
   "execution_count": 5,
   "metadata": {},
   "outputs": [
    {
     "name": "stdout",
     "output_type": "stream",
     "text": [
      "['Ae US'] \n",
      "\n",
      "Price Heading - 10 first lines : \n",
      "\n",
      "0    12.50 USD\n",
      "1    12.50 USD\n",
      "2    12.50 USD\n",
      "3    12.50 USD\n",
      "4    12.50 USD\n",
      "5    12.50 USD\n",
      "6    12.50 USD\n",
      "7    12.50 USD\n",
      "8    12.50 USD\n",
      "9    12.50 USD\n",
      "Name: price, dtype: object \n",
      "\n",
      "Price Tail - 10 last lines lines : \n",
      "\n",
      "28318    16.17 USD\n",
      "28319    16.17 USD\n",
      "28320    20.97 USD\n",
      "28321    20.97 USD\n",
      "28322    20.97 USD\n",
      "28323    20.97 USD\n",
      "28324    20.97 USD\n",
      "28325    20.97 USD\n",
      "28326    20.97 USD\n",
      "28327    20.97 USD\n",
      "Name: price, dtype: object \n",
      "\n",
      "_________________________________________________________ \n",
      "\n",
      "['Amazon US'] \n",
      "\n",
      "Price Heading - 10 first lines : \n",
      "\n",
      "0    $32.40 \n",
      "1    $27.00 \n",
      "2    $65.00 \n",
      "3    $36.00 \n",
      "4    $65.00 \n",
      "5    $55.00 \n",
      "6    $44.00 \n",
      "7    $20.00 \n",
      "8    $14.65 \n",
      "9    $55.00 \n",
      "Name: price, dtype: object \n",
      "\n",
      "Price Tail - 10 last lines lines : \n",
      "\n",
      "31602    $48.00 \n",
      "31603    $38.00 \n",
      "31604    $36.50 \n",
      "31605    $48.00 \n",
      "31606    $60.00 \n",
      "31607    $65.00 \n",
      "31608    $54.50 \n",
      "31609    $60.00 \n",
      "31610    $48.00 \n",
      "31611    $43.06 \n",
      "Name: price, dtype: object \n",
      "\n",
      "_________________________________________________________ \n",
      "\n",
      "['Btemptd US'] \n",
      "\n",
      "Price Heading - 10 first lines : \n",
      "\n",
      "0    $30.00 \n",
      "1    $30.00 \n",
      "2    $30.00 \n",
      "3    $21.00 \n",
      "4    $21.00 \n",
      "5    $18.00 \n",
      "6    $18.00 \n",
      "7    $18.00 \n",
      "8    $40.00 \n",
      "9    $40.00 \n",
      "Name: price, dtype: object \n",
      "\n",
      "Price Tail - 10 last lines lines : \n",
      "\n",
      "3508    $12.60 \n",
      "3509    $12.60 \n",
      "3510    $12.60 \n",
      "3511    $12.60 \n",
      "3512    $10.80 \n",
      "3513    $30.00 \n",
      "3514    $21.00 \n",
      "3515    $30.00 \n",
      "3516    $30.00 \n",
      "3517    $30.00 \n",
      "Name: price, dtype: object \n",
      "\n",
      "_________________________________________________________ \n",
      "\n",
      "['Calvin Klein US'] \n",
      "\n",
      "Price Heading - 10 first lines : \n",
      "\n",
      "0    $13.00 \n",
      "1    $13.00 \n",
      "2    $13.00 \n",
      "3    $13.00 \n",
      "4    $13.00 \n",
      "5    $13.00 \n",
      "6    $13.00 \n",
      "7    $18.00 \n",
      "8    $18.00 \n",
      "9    $18.00 \n",
      "Name: price, dtype: object \n",
      "\n",
      "Price Tail - 10 last lines lines : \n",
      "\n",
      "4737    $13.00 \n",
      "4738    $13.00 \n",
      "4739    $13.00 \n",
      "4740    $13.00 \n",
      "4741    $13.00 \n",
      "4742    $13.00 \n",
      "4743    $13.00 \n",
      "4744    $13.00 \n",
      "4745     $9.99 \n",
      "4746     $6.99 \n",
      "Name: price, dtype: object \n",
      "\n",
      "_________________________________________________________ \n",
      "\n",
      "['Hankypanky US'] \n",
      "\n",
      "Price Heading - 10 first lines : \n",
      "\n",
      "0     $68 \n",
      "1     $68 \n",
      "2     $30 \n",
      "3     $30 \n",
      "4     $59 \n",
      "5    $615 \n",
      "6     $64 \n",
      "7     $64 \n",
      "8     $64 \n",
      "9     $64 \n",
      "Name: price, dtype: object \n",
      "\n",
      "Price Tail - 10 last lines lines : \n",
      "\n",
      "34995    $59 \n",
      "34996    $59 \n",
      "34997    $59 \n",
      "34998    $20 \n",
      "34999    $20 \n",
      "35000    $20 \n",
      "35001    $39 \n",
      "35002    $39 \n",
      "35003    $39 \n",
      "35004    $39 \n",
      "Name: price, dtype: object \n",
      "\n",
      "_________________________________________________________ \n",
      "\n",
      "['Macys US'] \n",
      "\n",
      "Price Heading - 10 first lines : \n",
      "\n",
      "0    $20.00 \n",
      "1    $20.00 \n",
      "2    $20.00 \n",
      "3    $26.00 \n",
      "4    $15.00 \n",
      "5    $67.00 \n",
      "6    $46.00 \n",
      "7    $46.00 \n",
      "8    $60.00 \n",
      "9    $60.00 \n",
      "Name: price, dtype: object \n",
      "\n",
      "Price Tail - 10 last lines lines : \n",
      "\n",
      "40887    $20.00 \n",
      "40888    $35.00 \n",
      "40889    $13.00 \n",
      "40890    $13.00 \n",
      "40891    $13.00 \n",
      "40892    $34.99 \n",
      "40893    $35.00 \n",
      "40894    $22.40 \n",
      "40895    $46.00 \n",
      "40896    $46.00 \n",
      "Name: price, dtype: object \n",
      "\n",
      "_________________________________________________________ \n",
      "\n",
      "['Nordstrom US'] \n",
      "\n",
      "Price Heading - 10 first lines : \n",
      "\n",
      "0    $15.00 \n",
      "1    $15.00 \n",
      "2    $15.00 \n",
      "3    $15.00 \n",
      "4    $18.00 \n",
      "5    $18.00 \n",
      "6    $18.00 \n",
      "7    $23.00 \n",
      "8    $78.00 \n",
      "9    $15.00 \n",
      "Name: price, dtype: object \n",
      "\n",
      "Price Tail - 10 last lines lines : \n",
      "\n",
      "12558    $35.00 \n",
      "12559    $13.00 \n",
      "12560    $13.00 \n",
      "12561    $13.00 \n",
      "12562    $13.00 \n",
      "12563    $13.00 \n",
      "12564    $13.00 \n",
      "12565    $13.00 \n",
      "12566    $55.00 \n",
      "12567    $42.00 \n",
      "Name: price, dtype: object \n",
      "\n",
      "_________________________________________________________ \n",
      "\n",
      "['Topshop US'] \n",
      "\n",
      "Price Heading - 10 first lines : \n",
      "\n",
      "0     $20.00\n",
      "1     $35.00\n",
      "2     $20.00\n",
      "3     $10.00\n",
      "4     $10.00\n",
      "5     $45.00\n",
      "6     $30.00\n",
      "7     $10.00\n",
      "8     $15.00\n",
      "9     $10.00\n",
      "Name: price, dtype: object \n",
      "\n",
      "Price Tail - 10 last lines lines : \n",
      "\n",
      "3072      $8.00\n",
      "3073     $10.00\n",
      "3074      $4.00\n",
      "3075     $12.00\n",
      "3076     $28.00\n",
      "3077     $10.00\n",
      "3078     $20.00\n",
      "3079     $24.00\n",
      "3080     $10.00\n",
      "3081     $26.00\n",
      "Name: price, dtype: object \n",
      "\n",
      "_________________________________________________________ \n",
      "\n",
      "['Victoriassecret US'] \n",
      "\n",
      "Price Heading - 10 first lines : \n",
      "\n",
      "0    $14.50 \n",
      "1    $14.50 \n",
      "2    $14.50 \n",
      "3    $14.50 \n",
      "4    $14.50 \n",
      "5    $14.50 \n",
      "6    $14.50 \n",
      "7    $14.50 \n",
      "8    $14.50 \n",
      "9    $14.50 \n",
      "Name: price, dtype: object \n",
      "\n",
      "Price Tail - 10 last lines lines : \n",
      "\n",
      "453376    $48.00 \n",
      "453377    $48.00 \n",
      "453378    $48.00 \n",
      "453379    $48.00 \n",
      "453380    $48.00 \n",
      "453381    $48.00 \n",
      "453382    $48.00 \n",
      "453383    $48.00 \n",
      "453384    $48.00 \n",
      "453385    $48.00 \n",
      "Name: price, dtype: object \n",
      "\n",
      "_________________________________________________________ \n",
      "\n"
     ]
    }
   ],
   "source": [
    "#Checking some rows of the price column for every df\n",
    "\n",
    "for i in df_list:\n",
    "    print (i.retailer.unique(), '\\n')\n",
    "    print ('Price Heading - 10 first lines : \\n')\n",
    "    print (i.price.head(10), '\\n')\n",
    "    print ('Price Tail - 10 last lines lines : \\n')\n",
    "    print (i.price.tail(10), '\\n')\n",
    "    print ('_________________________________________________________ \\n')"
   ]
  },
  {
   "cell_type": "code",
   "execution_count": 6,
   "metadata": {},
   "outputs": [
    {
     "data": {
      "text/plain": [
       "product_name               30 Pack Original Rise Thongs in Lucite Jar\n",
       "mrp                                                             $615 \n",
       "price                                                           $615 \n",
       "pdp_url             http://www.hankypanky.com/thongs/30-pack-origi...\n",
       "brand_name                                                 HankyPanky\n",
       "product_category                                               Thongs\n",
       "retailer                                                Hankypanky US\n",
       "description         For the ultimate Hanky Panky collector! This l...\n",
       "rating                                                            NaN\n",
       "review_count                                                      NaN\n",
       "style_attributes    [\"One-size thong in our signature stretch lace...\n",
       "total_sizes                                    [\"Select\", \"One Size\"]\n",
       "available_size                                 [\"Select\", \"One Size\"]\n",
       "color                                                         Rainbow\n",
       "Name: 5, dtype: object"
      ]
     },
     "execution_count": 6,
     "metadata": {},
     "output_type": "execute_result"
    }
   ],
   "source": [
    "#Apparently a product in df_hanky cost more than 615$!\n",
    "df_hanky.iloc[5]"
   ]
  },
  {
   "cell_type": "code",
   "execution_count": 7,
   "metadata": {},
   "outputs": [
    {
     "data": {
      "text/plain": [
       "'For the ultimate Hanky Panky collector! This limited edition jar opens to 30 of your favorite original rise signature lace thongs. Perfect for gifting or treating yourself!'"
      ]
     },
     "execution_count": 7,
     "metadata": {},
     "output_type": "execute_result"
    }
   ],
   "source": [
    "df_hanky.description[5]"
   ]
  },
  {
   "cell_type": "code",
   "execution_count": 8,
   "metadata": {},
   "outputs": [],
   "source": [
    "#After looking at the description, it's looks like it's a limited collection with mutliple items."
   ]
  },
  {
   "cell_type": "code",
   "execution_count": 9,
   "metadata": {},
   "outputs": [],
   "source": [
    "#Using concat, because they all have the same columns, to merge all datasets into a df. \n",
    "#I prefer to merge all datasets now, and try to preprocess all in once.\n",
    "#I still can call a specific dataset separatly.\n",
    "\n",
    "df = pd.concat(df_list)"
   ]
  },
  {
   "cell_type": "code",
   "execution_count": 10,
   "metadata": {},
   "outputs": [],
   "source": [
    "#Resetting index\n",
    "df = df.reset_index(drop=True)"
   ]
  },
  {
   "cell_type": "code",
   "execution_count": 11,
   "metadata": {},
   "outputs": [
    {
     "data": {
      "text/html": [
       "<div>\n",
       "<style scoped>\n",
       "    .dataframe tbody tr th:only-of-type {\n",
       "        vertical-align: middle;\n",
       "    }\n",
       "\n",
       "    .dataframe tbody tr th {\n",
       "        vertical-align: top;\n",
       "    }\n",
       "\n",
       "    .dataframe thead th {\n",
       "        text-align: right;\n",
       "    }\n",
       "</style>\n",
       "<table border=\"1\" class=\"dataframe\">\n",
       "  <thead>\n",
       "    <tr style=\"text-align: right;\">\n",
       "      <th></th>\n",
       "      <th>product_name</th>\n",
       "      <th>mrp</th>\n",
       "      <th>price</th>\n",
       "      <th>pdp_url</th>\n",
       "      <th>brand_name</th>\n",
       "      <th>product_category</th>\n",
       "      <th>retailer</th>\n",
       "      <th>description</th>\n",
       "      <th>rating</th>\n",
       "      <th>review_count</th>\n",
       "      <th>style_attributes</th>\n",
       "      <th>total_sizes</th>\n",
       "      <th>available_size</th>\n",
       "      <th>color</th>\n",
       "    </tr>\n",
       "  </thead>\n",
       "  <tbody>\n",
       "    <tr>\n",
       "      <th>0</th>\n",
       "      <td>Aerie Everyday Loves Lace Cheeky</td>\n",
       "      <td>12.50 USD</td>\n",
       "      <td>12.50 USD</td>\n",
       "      <td>https://www.ae.com/aerie-everyday-loves-lace-c...</td>\n",
       "      <td>AERIE</td>\n",
       "      <td>Cheekies</td>\n",
       "      <td>Ae US</td>\n",
       "      <td>Introducing Everyday Loves™: Made with love. E...</td>\n",
       "      <td>5.0</td>\n",
       "      <td>8.0</td>\n",
       "      <td>[\"Soft lace with the right amount of stretch\",...</td>\n",
       "      <td>[\"XS\", \"S\", \"M\", \"L\", \"XL\", \"XXL\"]</td>\n",
       "      <td>[\"XS\", \"S\", \"M\", \"L\", \"XL\", \"XXL\"]</td>\n",
       "      <td>Rugged Green</td>\n",
       "    </tr>\n",
       "    <tr>\n",
       "      <th>1</th>\n",
       "      <td>Aerie Everyday Loves Lace Cheeky</td>\n",
       "      <td>12.50 USD</td>\n",
       "      <td>12.50 USD</td>\n",
       "      <td>https://www.ae.com/aerie-everyday-loves-lace-c...</td>\n",
       "      <td>AERIE</td>\n",
       "      <td>Cheekies</td>\n",
       "      <td>Ae US</td>\n",
       "      <td>Introducing Everyday Loves™: Made with love. E...</td>\n",
       "      <td>5.0</td>\n",
       "      <td>8.0</td>\n",
       "      <td>[\"Soft lace with the right amount of stretch\",...</td>\n",
       "      <td>[\"XS\", \"S\", \"M\", \"L\", \"XL\", \"XXL\"]</td>\n",
       "      <td>[\"XS\", \"S\", \"M\", \"L\", \"XL\", \"XXL\"]</td>\n",
       "      <td>Natural Nude</td>\n",
       "    </tr>\n",
       "    <tr>\n",
       "      <th>2</th>\n",
       "      <td>Aerie Everyday Loves Lace Cheeky</td>\n",
       "      <td>12.50 USD</td>\n",
       "      <td>12.50 USD</td>\n",
       "      <td>https://www.ae.com/aerie-everyday-loves-lace-c...</td>\n",
       "      <td>AERIE</td>\n",
       "      <td>Cheekies</td>\n",
       "      <td>Ae US</td>\n",
       "      <td>Introducing Everyday Loves™: Made with love. E...</td>\n",
       "      <td>5.0</td>\n",
       "      <td>8.0</td>\n",
       "      <td>[\"Soft lace with the right amount of stretch\",...</td>\n",
       "      <td>[\"XS\", \"S\", \"M\", \"L\", \"XL\", \"XXL\"]</td>\n",
       "      <td>[\"XS\", \"S\", \"M\", \"L\", \"XL\", \"XXL\"]</td>\n",
       "      <td>True Black</td>\n",
       "    </tr>\n",
       "  </tbody>\n",
       "</table>\n",
       "</div>"
      ],
      "text/plain": [
       "                       product_name        mrp      price  \\\n",
       "0  Aerie Everyday Loves Lace Cheeky  12.50 USD  12.50 USD   \n",
       "1  Aerie Everyday Loves Lace Cheeky  12.50 USD  12.50 USD   \n",
       "2  Aerie Everyday Loves Lace Cheeky  12.50 USD  12.50 USD   \n",
       "\n",
       "                                             pdp_url brand_name  \\\n",
       "0  https://www.ae.com/aerie-everyday-loves-lace-c...      AERIE   \n",
       "1  https://www.ae.com/aerie-everyday-loves-lace-c...      AERIE   \n",
       "2  https://www.ae.com/aerie-everyday-loves-lace-c...      AERIE   \n",
       "\n",
       "  product_category retailer  \\\n",
       "0         Cheekies    Ae US   \n",
       "1         Cheekies    Ae US   \n",
       "2         Cheekies    Ae US   \n",
       "\n",
       "                                         description  rating  review_count  \\\n",
       "0  Introducing Everyday Loves™: Made with love. E...     5.0           8.0   \n",
       "1  Introducing Everyday Loves™: Made with love. E...     5.0           8.0   \n",
       "2  Introducing Everyday Loves™: Made with love. E...     5.0           8.0   \n",
       "\n",
       "                                    style_attributes  \\\n",
       "0  [\"Soft lace with the right amount of stretch\",...   \n",
       "1  [\"Soft lace with the right amount of stretch\",...   \n",
       "2  [\"Soft lace with the right amount of stretch\",...   \n",
       "\n",
       "                          total_sizes                      available_size  \\\n",
       "0  [\"XS\", \"S\", \"M\", \"L\", \"XL\", \"XXL\"]  [\"XS\", \"S\", \"M\", \"L\", \"XL\", \"XXL\"]   \n",
       "1  [\"XS\", \"S\", \"M\", \"L\", \"XL\", \"XXL\"]  [\"XS\", \"S\", \"M\", \"L\", \"XL\", \"XXL\"]   \n",
       "2  [\"XS\", \"S\", \"M\", \"L\", \"XL\", \"XXL\"]  [\"XS\", \"S\", \"M\", \"L\", \"XL\", \"XXL\"]   \n",
       "\n",
       "          color  \n",
       "0  Rugged Green  \n",
       "1  Natural Nude  \n",
       "2    True Black  "
      ]
     },
     "execution_count": 11,
     "metadata": {},
     "output_type": "execute_result"
    }
   ],
   "source": [
    "#Checking the head\n",
    "df.head(3)"
   ]
  },
  {
   "cell_type": "code",
   "execution_count": 12,
   "metadata": {},
   "outputs": [
    {
     "name": "stdout",
     "output_type": "stream",
     "text": [
      "<class 'pandas.core.frame.DataFrame'>\n",
      "RangeIndex: 613143 entries, 0 to 613142\n",
      "Data columns (total 14 columns):\n",
      " #   Column            Non-Null Count   Dtype  \n",
      "---  ------            --------------   -----  \n",
      " 0   product_name      613143 non-null  object \n",
      " 1   mrp               613143 non-null  object \n",
      " 2   price             613143 non-null  object \n",
      " 3   pdp_url           613143 non-null  object \n",
      " 4   brand_name        613143 non-null  object \n",
      " 5   product_category  613143 non-null  object \n",
      " 6   retailer          613143 non-null  object \n",
      " 7   description       613143 non-null  object \n",
      " 8   rating            233556 non-null  float64\n",
      " 9   review_count      222030 non-null  float64\n",
      " 10  style_attributes  156675 non-null  object \n",
      " 11  total_sizes       613143 non-null  object \n",
      " 12  available_size    613143 non-null  object \n",
      " 13  color             612466 non-null  object \n",
      "dtypes: float64(2), object(12)\n",
      "memory usage: 65.5+ MB\n"
     ]
    }
   ],
   "source": [
    "df.info()"
   ]
  },
  {
   "cell_type": "markdown",
   "metadata": {},
   "source": [
    "**<span style=\"color:blue\">\n",
    "    Question 1:\n",
    " Check if for the Rp prices, we have a specific type of products sold. </span>** "
   ]
  },
  {
   "cell_type": "code",
   "execution_count": 13,
   "metadata": {},
   "outputs": [],
   "source": [
    "rp_prices = df.loc[df.mrp.str.contains(\"Rp\")][['product_name', 'mrp', 'product_category']]"
   ]
  },
  {
   "cell_type": "code",
   "execution_count": 14,
   "metadata": {},
   "outputs": [
    {
     "data": {
      "text/plain": [
       "Easy Push-Up Bra                                198\n",
       "Cotton Lingerie NEW! String Bikini Panty         62\n",
       "Dream Angels Demi Bra                            54\n",
       "PINK NEW! Lace Lightly Lined Halter Bralette     36\n",
       "Name: product_name, dtype: int64"
      ]
     },
     "execution_count": 14,
     "metadata": {},
     "output_type": "execute_result"
    }
   ],
   "source": [
    "#We have 4 products that contains Rp prices\n",
    "rp_prices.product_name.value_counts()"
   ]
  },
  {
   "cell_type": "markdown",
   "metadata": {},
   "source": [
    "**<span style=\"color:blue\">Question 2:\n",
    "Check for the factor to apply for currency converter to replace the prices by the USD equivalent. </span>**\n",
    "\n",
    "*Consider that:* \n",
    "- 1 IRD (Roupie) = 0.000071 USD \n",
    "- 1 Costa Rica dollar = 0.0016 USD ₡\n",
    "\n",
    "*Create a function that* \n",
    "- takes one argument to be one element from the price columns, \n",
    "- identifies which currency it is,\n",
    "- extracts the value and converts it to float.\n",
    "\n",
    "*Then apply your function to both price columns in df.*"
   ]
  },
  {
   "cell_type": "markdown",
   "metadata": {},
   "source": [
    "**Price conversion function**\n",
    "\n",
    "Trying to convert prices into all df directly (using the merged_df.) Encountered several problems, like price intervals. Founded a solution and decided to remplace the interval (like 14.55 - 18.22) by the mean of this interval."
   ]
  },
  {
   "cell_type": "code",
   "execution_count": 15,
   "metadata": {},
   "outputs": [
    {
     "data": {
      "text/html": [
       "<div>\n",
       "<style scoped>\n",
       "    .dataframe tbody tr th:only-of-type {\n",
       "        vertical-align: middle;\n",
       "    }\n",
       "\n",
       "    .dataframe tbody tr th {\n",
       "        vertical-align: top;\n",
       "    }\n",
       "\n",
       "    .dataframe thead th {\n",
       "        text-align: right;\n",
       "    }\n",
       "</style>\n",
       "<table border=\"1\" class=\"dataframe\">\n",
       "  <thead>\n",
       "    <tr style=\"text-align: right;\">\n",
       "      <th></th>\n",
       "      <th>price</th>\n",
       "    </tr>\n",
       "  </thead>\n",
       "  <tbody>\n",
       "    <tr>\n",
       "      <th>0</th>\n",
       "      <td>USD 500.6</td>\n",
       "    </tr>\n",
       "    <tr>\n",
       "      <th>1</th>\n",
       "      <td>500.7 USD</td>\n",
       "    </tr>\n",
       "    <tr>\n",
       "      <th>2</th>\n",
       "      <td>$ 15</td>\n",
       "    </tr>\n",
       "    <tr>\n",
       "      <th>3</th>\n",
       "      <td>16.7 $</td>\n",
       "    </tr>\n",
       "    <tr>\n",
       "      <th>4</th>\n",
       "      <td>Rp 7653.6</td>\n",
       "    </tr>\n",
       "    <tr>\n",
       "      <th>5</th>\n",
       "      <td>rp 145</td>\n",
       "    </tr>\n",
       "    <tr>\n",
       "      <th>6</th>\n",
       "      <td>₡ 89</td>\n",
       "    </tr>\n",
       "    <tr>\n",
       "      <th>7</th>\n",
       "      <td>15.99 - 12.4</td>\n",
       "    </tr>\n",
       "    <tr>\n",
       "      <th>8</th>\n",
       "      <td>16.66 – 15.55</td>\n",
       "    </tr>\n",
       "  </tbody>\n",
       "</table>\n",
       "</div>"
      ],
      "text/plain": [
       "           price\n",
       "0      USD 500.6\n",
       "1      500.7 USD\n",
       "2           $ 15\n",
       "3         16.7 $\n",
       "4      Rp 7653.6\n",
       "5         rp 145\n",
       "6           ₡ 89\n",
       "7   15.99 - 12.4\n",
       "8  16.66 – 15.55"
      ]
     },
     "execution_count": 15,
     "metadata": {},
     "output_type": "execute_result"
    }
   ],
   "source": [
    "#First defining a df_test with some cases encountered to build the function and test it in a safe way\n",
    "\n",
    "df_test = pd.DataFrame({'price': ['USD 500.6', '500.7 USD', '$ 15', \n",
    "                                  '16.7 $', 'Rp 7653.6', 'rp 145', '₡ 89', '15.99 - 12.4', \n",
    "                                  '16.66 – 15.55']})\n",
    "df_test"
   ]
  },
  {
   "cell_type": "code",
   "execution_count": 16,
   "metadata": {},
   "outputs": [],
   "source": [
    "#Price conversion\n",
    "\n",
    "def conv_price (value):\n",
    "    \n",
    "    \"\"\" \n",
    "    // Need to import pandas as pd, numpy as np //\n",
    "    \n",
    "    Use this function to clean prices values.\n",
    "    Pass it in pd.DataFrame.apply or directly as f(val) on a specific value.\n",
    "    \n",
    "    This function: \n",
    "    -Convert Rp & ₡ values into USD (2017 conversion rate)\n",
    "    -Clean \"USD\", \"$\" characters and strip unwanted residuals\n",
    "    -Remplace price intervals (like '14.99 - 19.99') by the mean\n",
    "    \n",
    "    After passing this function into a pd.DataFrame, \n",
    "    the safest way is to apply pd.to_numeric to obtain a clean numerical column.\n",
    "    \n",
    "    \"\"\"\n",
    "    #Defining conversions rates\n",
    "    rp_conv_rate = 0.000071\n",
    "    cr_conv_rate = 0.0016\n",
    "    \n",
    "    #Cleaning the value, using lower and replace to ensure no difficulties like USD and usd\n",
    "    value = str(value).lower().replace('usd','').replace('$','').strip()\n",
    "    \n",
    "    #Convert Rp prices\n",
    "    if \"rp\" in value:\n",
    "        value = value.replace('rp','').strip()\n",
    "        value = pd.to_numeric(value)*rp_conv_rate\n",
    "        return value\n",
    "    \n",
    "    #Convert Cr prices\n",
    "    elif \"₡\" in value:\n",
    "        value = value.replace('₡','').strip()\n",
    "        value = pd.to_numeric(value)*cr_conv_rate\n",
    "        return value\n",
    "    \n",
    "    #Convert intervals\n",
    "    elif \"-\" or \"–\" in value:\n",
    "        value = value.replace('-','').replace('–','').strip()\n",
    "        value = [float(value[:5]), float(value[-5:])]\n",
    "        value = np.mean(value)\n",
    "        return value\n",
    "    \n",
    "    #Other cases\n",
    "    else:\n",
    "        return value"
   ]
  },
  {
   "cell_type": "code",
   "execution_count": 17,
   "metadata": {},
   "outputs": [
    {
     "data": {
      "text/plain": [
       "(        price\n",
       " 0  500.600000\n",
       " 1  500.700000\n",
       " 2   15.000000\n",
       " 3   16.700000\n",
       " 4    0.543406\n",
       " 5    0.010295\n",
       " 6    0.142400\n",
       " 7   14.195000\n",
       " 8   16.105000,\n",
       " dtype('float64'))"
      ]
     },
     "execution_count": 17,
     "metadata": {},
     "output_type": "execute_result"
    }
   ],
   "source": [
    "#Apply to df_test\n",
    "df_test['price'] = df_test.price.apply(conv_price).apply(pd.to_numeric)\n",
    "df_test, df_test.price.dtypes"
   ]
  },
  {
   "cell_type": "code",
   "execution_count": 18,
   "metadata": {},
   "outputs": [],
   "source": [
    "#It's look like the function did his job\n",
    "#Apply to prices cols\n",
    "df['price'] = df.price.apply(conv_price).apply(pd.to_numeric)\n",
    "df['mrp'] = df.mrp.apply(conv_price).apply(pd.to_numeric)"
   ]
  },
  {
   "cell_type": "code",
   "execution_count": 19,
   "metadata": {},
   "outputs": [
    {
     "data": {
      "text/plain": [
       "product_name         object\n",
       "mrp                 float64\n",
       "price               float64\n",
       "pdp_url              object\n",
       "brand_name           object\n",
       "product_category     object\n",
       "retailer             object\n",
       "description          object\n",
       "rating              float64\n",
       "review_count        float64\n",
       "style_attributes     object\n",
       "total_sizes          object\n",
       "available_size       object\n",
       "color                object\n",
       "dtype: object"
      ]
     },
     "execution_count": 19,
     "metadata": {},
     "output_type": "execute_result"
    }
   ],
   "source": [
    "df.dtypes"
   ]
  },
  {
   "cell_type": "code",
   "execution_count": 20,
   "metadata": {},
   "outputs": [
    {
     "data": {
      "text/html": [
       "<div>\n",
       "<style scoped>\n",
       "    .dataframe tbody tr th:only-of-type {\n",
       "        vertical-align: middle;\n",
       "    }\n",
       "\n",
       "    .dataframe tbody tr th {\n",
       "        vertical-align: top;\n",
       "    }\n",
       "\n",
       "    .dataframe thead th {\n",
       "        text-align: right;\n",
       "    }\n",
       "</style>\n",
       "<table border=\"1\" class=\"dataframe\">\n",
       "  <thead>\n",
       "    <tr style=\"text-align: right;\">\n",
       "      <th></th>\n",
       "      <th>mrp</th>\n",
       "      <th>price</th>\n",
       "      <th>rating</th>\n",
       "      <th>review_count</th>\n",
       "    </tr>\n",
       "  </thead>\n",
       "  <tbody>\n",
       "    <tr>\n",
       "      <th>count</th>\n",
       "      <td>613143.00</td>\n",
       "      <td>613143.00</td>\n",
       "      <td>233556.00</td>\n",
       "      <td>2.220300e+05</td>\n",
       "    </tr>\n",
       "    <tr>\n",
       "      <th>mean</th>\n",
       "      <td>36.20</td>\n",
       "      <td>32.68</td>\n",
       "      <td>4.25</td>\n",
       "      <td>5.708913e+35</td>\n",
       "    </tr>\n",
       "    <tr>\n",
       "      <th>std</th>\n",
       "      <td>17.65</td>\n",
       "      <td>18.23</td>\n",
       "      <td>0.53</td>\n",
       "      <td>9.170288e+36</td>\n",
       "    </tr>\n",
       "    <tr>\n",
       "      <th>min</th>\n",
       "      <td>0.01</td>\n",
       "      <td>0.01</td>\n",
       "      <td>0.00</td>\n",
       "      <td>1.000000e+00</td>\n",
       "    </tr>\n",
       "    <tr>\n",
       "      <th>25%</th>\n",
       "      <td>24.50</td>\n",
       "      <td>19.99</td>\n",
       "      <td>4.00</td>\n",
       "      <td>1.600000e+01</td>\n",
       "    </tr>\n",
       "    <tr>\n",
       "      <th>50%</th>\n",
       "      <td>35.00</td>\n",
       "      <td>32.95</td>\n",
       "      <td>4.30</td>\n",
       "      <td>9.700000e+01</td>\n",
       "    </tr>\n",
       "    <tr>\n",
       "      <th>75%</th>\n",
       "      <td>46.50</td>\n",
       "      <td>44.50</td>\n",
       "      <td>4.50</td>\n",
       "      <td>3.860000e+02</td>\n",
       "    </tr>\n",
       "    <tr>\n",
       "      <th>max</th>\n",
       "      <td>615.00</td>\n",
       "      <td>615.00</td>\n",
       "      <td>5.00</td>\n",
       "      <td>1.560000e+38</td>\n",
       "    </tr>\n",
       "  </tbody>\n",
       "</table>\n",
       "</div>"
      ],
      "text/plain": [
       "             mrp      price     rating  review_count\n",
       "count  613143.00  613143.00  233556.00  2.220300e+05\n",
       "mean       36.20      32.68       4.25  5.708913e+35\n",
       "std        17.65      18.23       0.53  9.170288e+36\n",
       "min         0.01       0.01       0.00  1.000000e+00\n",
       "25%        24.50      19.99       4.00  1.600000e+01\n",
       "50%        35.00      32.95       4.30  9.700000e+01\n",
       "75%        46.50      44.50       4.50  3.860000e+02\n",
       "max       615.00     615.00       5.00  1.560000e+38"
      ]
     },
     "execution_count": 20,
     "metadata": {},
     "output_type": "execute_result"
    }
   ],
   "source": [
    "#Having now floats for mrp & price cols, we can check desc stats\n",
    "df.describe().round(2)"
   ]
  },
  {
   "cell_type": "code",
   "execution_count": 21,
   "metadata": {},
   "outputs": [
    {
     "data": {
      "text/plain": [
       "<AxesSubplot:xlabel='mrp', ylabel='retailer'>"
      ]
     },
     "execution_count": 21,
     "metadata": {},
     "output_type": "execute_result"
    },
    {
     "data": {
      "image/png": "[encoded data removed]",
      "text/plain": [
       "<Figure size 432x288 with 1 Axes>"
      ]
     },
     "metadata": {},
     "output_type": "display_data"
    }
   ],
   "source": [
    "#Checking in a box plot to see the distribution. Most of the retailers have price that fall under 100$\n",
    "#But we have some outliers for hanky panky, as we seen at the beginning.\n",
    "sns.boxplot(data=df,x='mrp',y='retailer')"
   ]
  },
  {
   "cell_type": "code",
   "execution_count": 217,
   "metadata": {},
   "outputs": [
    {
     "data": {
      "text/plain": [
       "(0.0, 150.0)"
      ]
     },
     "execution_count": 217,
     "metadata": {},
     "output_type": "execute_result"
    },
    {
     "data": {
      "image/png": "[encoded data removed]",
      "text/plain": [
       "<Figure size 432x288 with 1 Axes>"
      ]
     },
     "metadata": {},
     "output_type": "display_data"
    }
   ],
   "source": [
    "#We can set a x limit to have a better view on the distribution of mrp \n",
    "sns.boxplot(data=df,x='mrp',y='retailer')\n",
    "plt.xlim(0,150)"
   ]
  },
  {
   "cell_type": "code",
   "execution_count": 218,
   "metadata": {},
   "outputs": [
    {
     "data": {
      "text/plain": [
       "(0.0, 150.0)"
      ]
     },
     "execution_count": 218,
     "metadata": {},
     "output_type": "execute_result"
    },
    {
     "data": {
      "image/png": "[encoded data removed]",
      "text/plain": [
       "<Figure size 432x288 with 1 Axes>"
      ]
     },
     "metadata": {},
     "output_type": "display_data"
    }
   ],
   "source": [
    "sns.boxplot(data=df,x='price',y='retailer')\n",
    "plt.xlim(0,150)"
   ]
  },
  {
   "cell_type": "code",
   "execution_count": null,
   "metadata": {},
   "outputs": [],
   "source": []
  },
  {
   "cell_type": "markdown",
   "metadata": {},
   "source": [
    "##### Question 3: \n",
    "Which online retailers sell some Victoria's Secret products? "
   ]
  },
  {
   "cell_type": "code",
   "execution_count": 22,
   "metadata": {},
   "outputs": [
    {
     "data": {
      "text/plain": [
       "Victoria's Secret                                                                                      342533\n",
       "Victoria's Secret Pink                                                                                 110853\n",
       "HankyPanky                                                                                              35005\n",
       "Wacoal                                                                                                  28978\n",
       "AERIE                                                                                                   28304\n",
       "Calvin Klein                                                                                            18892\n",
       "Hanky Panky                                                                                              8133\n",
       "Calvin-Klein                                                                                             7372\n",
       "WACOAL                                                                                                   6580\n",
       "b.tempt'd by Wacoal                                                                                      5241\n",
       "HANKY PANKY                                                                                              4582\n",
       "b-temptd                                                                                                 3490\n",
       "CALVIN KLEIN                                                                                             3142\n",
       "US TOPSHOP                                                                                               3082\n",
       "Vanity Fair                                                                                              2575\n",
       "Calvin Klein Modern Cotton                                                                               1193\n",
       "B.TEMPT'D BY WACOAL                                                                                       912\n",
       "NORDSTROM LINGERIE                                                                                        870\n",
       "Calvin Klein Performance                                                                                  651\n",
       "Hanky-Panky                                                                                               582\n",
       "b.tempt'd                                                                                                  69\n",
       "Victorias-Secret                                                                                           67\n",
       "AEO                                                                                                        24\n",
       "s                                                                                                           3\n",
       "ref=w_bl_sl_l_b_ap_web_2603426011?ie=UTF8&node=2603426011&field-lbr_brands_browse-bin=Wacoal                2\n",
       "Nintendo                                                                                                    1\n",
       "Creative-Motion                                                                                             1\n",
       "Fila                                                                                                        1\n",
       "ref=w_bl_sl_l_ap_ap_web_2586685011?ie=UTF8&node=2586685011&field-lbr_brands_browse-bin=Calvin+Klein         1\n",
       "Sexy-Hair                                                                                                   1\n",
       "Lucky-Brand                                                                                                 1\n",
       "ref=w_bl_sl_l_b_ap_web_2586451011?ie=UTF8&node=2586451011&field-lbr_brands_browse-bin=b.tempt%27d           1\n",
       "Compression-Comfort                                                                                         1\n",
       "Name: brand_name, dtype: int64"
      ]
     },
     "execution_count": 22,
     "metadata": {},
     "output_type": "execute_result"
    }
   ],
   "source": [
    "#First checking brands names\n",
    "df.brand_name.value_counts()"
   ]
  },
  {
   "cell_type": "code",
   "execution_count": 23,
   "metadata": {},
   "outputs": [],
   "source": [
    "#Saving brands into a new df to try a preprocessing over brands names, because victoria appear multiple times\n",
    "brands = pd.DataFrame(df['brand_name'].str.lower())"
   ]
  },
  {
   "cell_type": "code",
   "execution_count": 24,
   "metadata": {},
   "outputs": [
    {
     "data": {
      "text/plain": [
       "brand_name                                                                                         \n",
       "Victoria Secret                                                                                        453453\n",
       "wacoal                                                                                                  35558\n",
       "hankypanky                                                                                              35005\n",
       "aerie                                                                                                   28304\n",
       "calvin klein                                                                                            22034\n",
       "hanky panky                                                                                             12715\n",
       "calvin-klein                                                                                             7372\n",
       "b.tempt'd by wacoal                                                                                      6153\n",
       "b-temptd                                                                                                 3490\n",
       "us topshop                                                                                               3082\n",
       "vanity fair                                                                                              2575\n",
       "calvin klein modern cotton                                                                               1193\n",
       "nordstrom lingerie                                                                                        870\n",
       "calvin klein performance                                                                                  651\n",
       "hanky-panky                                                                                               582\n",
       "b.tempt'd                                                                                                  69\n",
       "aeo                                                                                                        24\n",
       "s                                                                                                           3\n",
       "ref=w_bl_sl_l_b_ap_web_2603426011?ie=utf8&node=2603426011&field-lbr_brands_browse-bin=wacoal                2\n",
       "ref=w_bl_sl_l_b_ap_web_2586451011?ie=utf8&node=2586451011&field-lbr_brands_browse-bin=b.tempt%27d           1\n",
       "lucky-brand                                                                                                 1\n",
       "ref=w_bl_sl_l_ap_ap_web_2586685011?ie=utf8&node=2586685011&field-lbr_brands_browse-bin=calvin+klein         1\n",
       "nintendo                                                                                                    1\n",
       "compression-comfort                                                                                         1\n",
       "creative-motion                                                                                             1\n",
       "sexy-hair                                                                                                   1\n",
       "fila                                                                                                        1\n",
       "dtype: int64"
      ]
     },
     "execution_count": 24,
     "metadata": {},
     "output_type": "execute_result"
    }
   ],
   "source": [
    "brands.loc[brands['brand_name'].str.contains('victoria'), 'brand_name'] = \"Victoria Secret\"\n",
    "brands.value_counts()"
   ]
  },
  {
   "cell_type": "code",
   "execution_count": 25,
   "metadata": {},
   "outputs": [],
   "source": [
    "#Updating the brand_name col with the preprocessed one\n",
    "df['brand_name'] = brands"
   ]
  },
  {
   "cell_type": "code",
   "execution_count": 26,
   "metadata": {},
   "outputs": [],
   "source": [
    "#Now we can create a new variable that contains all rows with brand_name Victoria Secret using a query\n",
    "victoria_products = df.query('(brand_name == \"Victoria Secret\")')"
   ]
  },
  {
   "cell_type": "code",
   "execution_count": 27,
   "metadata": {},
   "outputs": [
    {
     "data": {
      "text/plain": [
       "Victoriassecret US    453386\n",
       "Amazon US                 67\n",
       "Name: retailer, dtype: int64"
      ]
     },
     "execution_count": 27,
     "metadata": {},
     "output_type": "execute_result"
    }
   ],
   "source": [
    "#Checking the differents retailers\n",
    "victoria_products['retailer'].value_counts()"
   ]
  },
  {
   "cell_type": "markdown",
   "metadata": {},
   "source": [
    "Almost all Victoria Secrets products are from victoriasecret US retailer (453 386). \n",
    "There are some from Amazon US (only 67)"
   ]
  },
  {
   "cell_type": "markdown",
   "metadata": {},
   "source": [
    "---\n",
    "**Question 4:**\n",
    "What are the Victoria's Secret products available in the different retailers?\n"
   ]
  },
  {
   "cell_type": "code",
   "execution_count": 28,
   "metadata": {},
   "outputs": [
    {
     "data": {
      "text/plain": [
       "Victoria's Secret The Ultimate Maximum Support Sport Bra    67\n",
       "Name: product_name, dtype: int64"
      ]
     },
     "execution_count": 28,
     "metadata": {},
     "output_type": "execute_result"
    }
   ],
   "source": [
    "#We have only one product sold by Amazon.\n",
    "victoria_products.loc[victoria_products.retailer == 'Amazon US']['product_name'].value_counts()"
   ]
  },
  {
   "cell_type": "code",
   "execution_count": 29,
   "metadata": {},
   "outputs": [
    {
     "data": {
      "text/plain": [
       "Body by Victoria Perfect Coverage Bra              17922\n",
       "Victoria Sport Incredible by Victoria Sport Bra    12274\n",
       "Dream Angels Push-Up Bra                           11878\n",
       "Very Sexy Push-Up Bra                              10985\n",
       "Body by Victoria Demi Bra                          10881\n",
       "                                                   ...  \n",
       "Cotton Lingerie Soft & Smooth Cheeky Panty             5\n",
       "Very Sexy Embroidered Triangle Bra                     4\n",
       "PINK Fresh & Clean Gym Kit                             3\n",
       "PINK Coconut Waters Travel Kit                         3\n",
       "Very Sexy Heart Lace Garter Belt                       2\n",
       "Name: product_name, Length: 617, dtype: int64"
      ]
     },
     "execution_count": 29,
     "metadata": {},
     "output_type": "execute_result"
    }
   ],
   "source": [
    "#And we have more than 600 products sold by Victoria Secret, including a lot of bra.\n",
    "victoria_products.loc[victoria_products.retailer == 'Victoriassecret US']['product_name'].value_counts()"
   ]
  },
  {
   "cell_type": "markdown",
   "metadata": {},
   "source": [
    "--- \n",
    "**Question 5:**\n",
    "How many distinct Victoria's Secret products do we have here? (check 'product_name')"
   ]
  },
  {
   "cell_type": "code",
   "execution_count": 30,
   "metadata": {},
   "outputs": [
    {
     "name": "stdout",
     "output_type": "stream",
     "text": [
      "We have 618 distinct Victoria's Secret products in this DataFrame.\n"
     ]
    }
   ],
   "source": [
    "distinct_victoria = len(victoria_products.product_name.value_counts())\n",
    "\n",
    "print(f\"We have {distinct_victoria} distinct Victoria's Secret products in this DataFrame.\")"
   ]
  },
  {
   "cell_type": "markdown",
   "metadata": {},
   "source": [
    "**Question 6:**\n",
    "Try to merge amazon and VictoriaSecret datasets considering only Victorias-Secret products, using merge method from Pandas. \n",
    "https://pandas.pydata.org/pandas-docs/stable/reference/api/pandas.DataFrame.merge.html?highlight=merge#pandas.DataFrame.merge\n",
    "\n",
    "Compare prices."
   ]
  },
  {
   "cell_type": "code",
   "execution_count": 31,
   "metadata": {},
   "outputs": [
    {
     "data": {
      "text/html": [
       "<div>\n",
       "<style scoped>\n",
       "    .dataframe tbody tr th:only-of-type {\n",
       "        vertical-align: middle;\n",
       "    }\n",
       "\n",
       "    .dataframe tbody tr th {\n",
       "        vertical-align: top;\n",
       "    }\n",
       "\n",
       "    .dataframe thead tr th {\n",
       "        text-align: left;\n",
       "    }\n",
       "\n",
       "    .dataframe thead tr:last-of-type th {\n",
       "        text-align: right;\n",
       "    }\n",
       "</style>\n",
       "<table border=\"1\" class=\"dataframe\">\n",
       "  <thead>\n",
       "    <tr>\n",
       "      <th></th>\n",
       "      <th colspan=\"8\" halign=\"left\">price</th>\n",
       "      <th colspan=\"8\" halign=\"left\">mrp</th>\n",
       "    </tr>\n",
       "    <tr>\n",
       "      <th></th>\n",
       "      <th>count</th>\n",
       "      <th>mean</th>\n",
       "      <th>std</th>\n",
       "      <th>min</th>\n",
       "      <th>25%</th>\n",
       "      <th>50%</th>\n",
       "      <th>75%</th>\n",
       "      <th>max</th>\n",
       "      <th>count</th>\n",
       "      <th>mean</th>\n",
       "      <th>std</th>\n",
       "      <th>min</th>\n",
       "      <th>25%</th>\n",
       "      <th>50%</th>\n",
       "      <th>75%</th>\n",
       "      <th>max</th>\n",
       "    </tr>\n",
       "    <tr>\n",
       "      <th>retailer</th>\n",
       "      <th></th>\n",
       "      <th></th>\n",
       "      <th></th>\n",
       "      <th></th>\n",
       "      <th></th>\n",
       "      <th></th>\n",
       "      <th></th>\n",
       "      <th></th>\n",
       "      <th></th>\n",
       "      <th></th>\n",
       "      <th></th>\n",
       "      <th></th>\n",
       "      <th></th>\n",
       "      <th></th>\n",
       "      <th></th>\n",
       "      <th></th>\n",
       "    </tr>\n",
       "  </thead>\n",
       "  <tbody>\n",
       "    <tr>\n",
       "      <th>Amazon US</th>\n",
       "      <td>67.0</td>\n",
       "      <td>40.4</td>\n",
       "      <td>5.74</td>\n",
       "      <td>29.99</td>\n",
       "      <td>36.76</td>\n",
       "      <td>39.99</td>\n",
       "      <td>39.99</td>\n",
       "      <td>55.0</td>\n",
       "      <td>67.0</td>\n",
       "      <td>40.78</td>\n",
       "      <td>6.1</td>\n",
       "      <td>29.99</td>\n",
       "      <td>36.76</td>\n",
       "      <td>39.99</td>\n",
       "      <td>41.37</td>\n",
       "      <td>55.0</td>\n",
       "    </tr>\n",
       "    <tr>\n",
       "      <th>Victoriassecret US</th>\n",
       "      <td>453386.0</td>\n",
       "      <td>32.3</td>\n",
       "      <td>15.69</td>\n",
       "      <td>0.01</td>\n",
       "      <td>19.99</td>\n",
       "      <td>34.50</td>\n",
       "      <td>42.50</td>\n",
       "      <td>98.0</td>\n",
       "      <td>453386.0</td>\n",
       "      <td>35.99</td>\n",
       "      <td>14.8</td>\n",
       "      <td>0.01</td>\n",
       "      <td>29.50</td>\n",
       "      <td>36.00</td>\n",
       "      <td>46.50</td>\n",
       "      <td>98.0</td>\n",
       "    </tr>\n",
       "  </tbody>\n",
       "</table>\n",
       "</div>"
      ],
      "text/plain": [
       "                       price                                                 \\\n",
       "                       count  mean    std    min    25%    50%    75%   max   \n",
       "retailer                                                                      \n",
       "Amazon US               67.0  40.4   5.74  29.99  36.76  39.99  39.99  55.0   \n",
       "Victoriassecret US  453386.0  32.3  15.69   0.01  19.99  34.50  42.50  98.0   \n",
       "\n",
       "                         mrp                                                 \n",
       "                       count   mean   std    min    25%    50%    75%   max  \n",
       "retailer                                                                     \n",
       "Amazon US               67.0  40.78   6.1  29.99  36.76  39.99  41.37  55.0  \n",
       "Victoriassecret US  453386.0  35.99  14.8   0.01  29.50  36.00  46.50  98.0  "
      ]
     },
     "execution_count": 31,
     "metadata": {},
     "output_type": "execute_result"
    }
   ],
   "source": [
    "#Since I have already merged all df into once, and since Victoria Secret products in Amazon & Victoria Secrets are\n",
    "#in the variable \"victoria_products\", I simply reuse this variable to make the analysis\n",
    "\n",
    "by_retailer = victoria_products.groupby('retailer')\n",
    "#I use group by to compare price & mrp cols by retailer.\n",
    "by_retailer[['price','mrp']].describe().round(2)"
   ]
  },
  {
   "cell_type": "markdown",
   "metadata": {},
   "source": [
    "First, it is for me difficult to compare Amazon & Victoria Secret with relevance :\n",
    "    - Amazon sell only 1 product, Victoria's Secret 617\n",
    "    - We have only 67 elements for Amazon, and more than 453K for Victoria's Secret (more than 70% of the total df!)\n"
   ]
  },
  {
   "cell_type": "code",
   "execution_count": 32,
   "metadata": {},
   "outputs": [
    {
     "data": {
      "text/plain": [
       "<matplotlib.legend.Legend at 0x1e2829b2eb0>"
      ]
     },
     "execution_count": 32,
     "metadata": {},
     "output_type": "execute_result"
    },
    {
     "data": {
      "image/png": "[encoded data removed]",
      "text/plain": [
       "<Figure size 432x288 with 1 Axes>"
      ]
     },
     "metadata": {},
     "output_type": "display_data"
    }
   ],
   "source": [
    "#I founded that a violin plot would be a good option to compare the prices, since we can observe different distribution\n",
    "#very clearly, and we can compare mpr & prices and differents retailers all in one graph without losing clarity.\n",
    "sns.violinplot(data=victoria_products,x='retailer',y='mrp',color='blue')\n",
    "sns.violinplot(data=victoria_products,x='retailer',y='price',color='red')\n",
    "plt.legend(labels=['Blue : Maximum Retail Price','Red : Observed Price'])"
   ]
  },
  {
   "cell_type": "markdown",
   "metadata": {},
   "source": [
    "The distribution is much more condensed for Amazon. Most of the products fall in the interval '~25-45usd' (with the desc. stats observed before, we can say more about this : more than half of the products fall between 36.76usd and 39.99usd, and more than 3/4 fall between 30 and 40usd.\n",
    "\n",
    "For Victoria Secrets, the price is much more spreaded. This is due to the much higher number of distincts products.\n",
    "We still observe a peak close to the median (34.5usd). We can observe as well that around this peak, the price observed is much lower than the max retail price (in comparaison of the other price ranges, and amazon).\n",
    "We observe also a lot of peaks in the victoria's price distribution, this is not a smooth distribution everywhere.\n",
    "This could be the different products, that fall into certain price ranges.\n",
    "\n",
    "Finally, for Victoria's Secrets price distribution, we can observe that for the lowest prices (like every price lower than the median), the observed price is almost equal to the maximum retail price. But for higher prices, we observe a higher \"discount\", or simply difference between the mrp and the observed price. It could be a story of gross margin, probably lower for low-priced products, so the retailer does not apply significant reductions."
   ]
  },
  {
   "cell_type": "markdown",
   "metadata": {},
   "source": [
    "**Question 7:**\n",
    "Explore which brands ('brand_name') are sold by each retailer "
   ]
  },
  {
   "cell_type": "code",
   "execution_count": 34,
   "metadata": {},
   "outputs": [
    {
     "data": {
      "text/plain": [
       "brand_name                                                                                  \n",
       "victoria secret                                                                                 453453\n",
       "Hanky Panky                                                                                      48302\n",
       "wacoal                                                                                           45271\n",
       "Calvin Klein                                                                                     31251\n",
       "aerie                                                                                            28328\n",
       "us topshop                                                                                        3082\n",
       "vanity fair                                                                                       2575\n",
       "nordstrom lingerie                                                                                 870\n",
       "s                                                                                                    3\n",
       "ref=w_bl_sl_l_b_ap_web_2603426011?ie=utf8&node=2603426011&field-lbr_brands_browse-bin=wacoal         2\n",
       "sexy-hair                                                                                            1\n",
       "nintendo                                                                                             1\n",
       "lucky-brand                                                                                          1\n",
       "fila                                                                                                 1\n",
       "creative-motion                                                                                      1\n",
       "compression-comfort                                                                                  1\n",
       "dtype: int64"
      ]
     },
     "execution_count": 34,
     "metadata": {},
     "output_type": "execute_result"
    }
   ],
   "source": [
    "#Again, a brand cleaning would really help to compare brands sold by different retailers.\n",
    "#After a google research we see that b.temptd is in fact part of wacoal\n",
    "#https://www.google.com/search?sxsrf=ALeKk02qnczZK9esa6gag_zmM0MVMJbEfg%3A1610555872728&ei=4CH_X7-ALPLBlwSb6LGwDQ&q=b+tempt%27d+brand&oq=b+tempt%27d+brand&gs_lcp=CgZwc3ktYWIQAzIGCAAQFhAeOgQIIxAnOgUIABDLAToCCAA6BAgAEBM6CAgAEBYQHhATOgoIABANEAUQHhATOgoIABAIEA0QHhATUOZYWOVdYNVeaABwAHgAgAFTiAHdA5IBATeYAQCgAQGqAQdnd3Mtd2l6wAEB&sclient=psy-ab&ved=0ahUKEwi_8LyVrJnuAhXy4IUKHRt0DNYQ4dUDCA0&uact=5\n",
    "\n",
    "\n",
    "allbrands = pd.DataFrame(df['brand_name'].str.lower())\n",
    "allbrands.loc[allbrands['brand_name'].str.contains('calvin'), 'brand_name'] = \"Calvin Klein\"\n",
    "allbrands.loc[allbrands['brand_name'].str.contains('temp'), 'brand_name'] = \"wacoal\"\n",
    "allbrands.loc[allbrands['brand_name'].str.contains('hanky'), 'brand_name'] = \"Hanky Panky\"\n",
    "allbrands.loc[allbrands['brand_name'].str.contains('aeo'), 'brand_name'] = \"aerie\"\n",
    "allbrands.value_counts()"
   ]
  },
  {
   "cell_type": "code",
   "execution_count": 35,
   "metadata": {},
   "outputs": [
    {
     "data": {
      "text/plain": [
       "victoria secret       453453\n",
       "Hanky Panky            48302\n",
       "wacoal                 45271\n",
       "Calvin Klein           31251\n",
       "aerie                  28328\n",
       "us topshop              3082\n",
       "vanity fair             2575\n",
       "nordstrom lingerie       870\n",
       "Name: brand_name, dtype: int64"
      ]
     },
     "execution_count": 35,
     "metadata": {},
     "output_type": "execute_result"
    }
   ],
   "source": [
    "#Updating again the brand_name col with the preprocessed one\n",
    "df['brand_name'] = allbrands\n",
    "\n",
    "#And finally, dropping unsignificants brands (brands that are irrelevant, errors or that have only 1 to 3 occurences)\n",
    "brands_to_drop = ['nintendo','compression-comfort', 'creative-motion', 'fila', 'lucky-brand', 'sexy-hair','ref=w_bl_sl_l_b_ap_web_2603426011?ie=utf8&node=2603426011&field-lbr_brands_browse-bin=wacoal', 's']\n",
    "df = df[~df['brand_name'].isin(brands_to_drop)]\n",
    "\n",
    "#We finally have 8 brands, much easier and relevant to use\n",
    "df.brand_name.value_counts()"
   ]
  },
  {
   "cell_type": "code",
   "execution_count": 36,
   "metadata": {},
   "outputs": [
    {
     "data": {
      "text/html": [
       "<div>\n",
       "<style scoped>\n",
       "    .dataframe tbody tr th:only-of-type {\n",
       "        vertical-align: middle;\n",
       "    }\n",
       "\n",
       "    .dataframe tbody tr th {\n",
       "        vertical-align: top;\n",
       "    }\n",
       "\n",
       "    .dataframe thead th {\n",
       "        text-align: right;\n",
       "    }\n",
       "</style>\n",
       "<table border=\"1\" class=\"dataframe\">\n",
       "  <thead>\n",
       "    <tr style=\"text-align: right;\">\n",
       "      <th></th>\n",
       "      <th>retailer</th>\n",
       "      <th>brand</th>\n",
       "      <th>count</th>\n",
       "    </tr>\n",
       "  </thead>\n",
       "  <tbody>\n",
       "    <tr>\n",
       "      <th>2</th>\n",
       "      <td>Ae US</td>\n",
       "      <td>aerie</td>\n",
       "      <td>28328</td>\n",
       "    </tr>\n",
       "    <tr>\n",
       "      <th>17</th>\n",
       "      <td>Amazon US</td>\n",
       "      <td>victoria secret</td>\n",
       "      <td>67</td>\n",
       "    </tr>\n",
       "    <tr>\n",
       "      <th>3</th>\n",
       "      <td>Amazon US</td>\n",
       "      <td>wacoal</td>\n",
       "      <td>23579</td>\n",
       "    </tr>\n",
       "    <tr>\n",
       "      <th>16</th>\n",
       "      <td>Amazon US</td>\n",
       "      <td>Hanky Panky</td>\n",
       "      <td>582</td>\n",
       "    </tr>\n",
       "    <tr>\n",
       "      <th>7</th>\n",
       "      <td>Amazon US</td>\n",
       "      <td>Calvin Klein</td>\n",
       "      <td>7373</td>\n",
       "    </tr>\n",
       "    <tr>\n",
       "      <th>11</th>\n",
       "      <td>Btemptd US</td>\n",
       "      <td>wacoal</td>\n",
       "      <td>3518</td>\n",
       "    </tr>\n",
       "    <tr>\n",
       "      <th>8</th>\n",
       "      <td>Calvin Klein US</td>\n",
       "      <td>Calvin Klein</td>\n",
       "      <td>4747</td>\n",
       "    </tr>\n",
       "    <tr>\n",
       "      <th>1</th>\n",
       "      <td>Hankypanky US</td>\n",
       "      <td>Hanky Panky</td>\n",
       "      <td>35005</td>\n",
       "    </tr>\n",
       "    <tr>\n",
       "      <th>5</th>\n",
       "      <td>Macys US</td>\n",
       "      <td>wacoal</td>\n",
       "      <td>14200</td>\n",
       "    </tr>\n",
       "    <tr>\n",
       "      <th>4</th>\n",
       "      <td>Macys US</td>\n",
       "      <td>Calvin Klein</td>\n",
       "      <td>15989</td>\n",
       "    </tr>\n",
       "    <tr>\n",
       "      <th>14</th>\n",
       "      <td>Macys US</td>\n",
       "      <td>vanity fair</td>\n",
       "      <td>2575</td>\n",
       "    </tr>\n",
       "    <tr>\n",
       "      <th>6</th>\n",
       "      <td>Macys US</td>\n",
       "      <td>Hanky Panky</td>\n",
       "      <td>8133</td>\n",
       "    </tr>\n",
       "    <tr>\n",
       "      <th>9</th>\n",
       "      <td>Nordstrom US</td>\n",
       "      <td>Hanky Panky</td>\n",
       "      <td>4582</td>\n",
       "    </tr>\n",
       "    <tr>\n",
       "      <th>10</th>\n",
       "      <td>Nordstrom US</td>\n",
       "      <td>wacoal</td>\n",
       "      <td>3974</td>\n",
       "    </tr>\n",
       "    <tr>\n",
       "      <th>12</th>\n",
       "      <td>Nordstrom US</td>\n",
       "      <td>Calvin Klein</td>\n",
       "      <td>3142</td>\n",
       "    </tr>\n",
       "    <tr>\n",
       "      <th>15</th>\n",
       "      <td>Nordstrom US</td>\n",
       "      <td>nordstrom lingerie</td>\n",
       "      <td>870</td>\n",
       "    </tr>\n",
       "    <tr>\n",
       "      <th>13</th>\n",
       "      <td>Topshop US</td>\n",
       "      <td>us topshop</td>\n",
       "      <td>3082</td>\n",
       "    </tr>\n",
       "    <tr>\n",
       "      <th>0</th>\n",
       "      <td>Victoriassecret US</td>\n",
       "      <td>victoria secret</td>\n",
       "      <td>453386</td>\n",
       "    </tr>\n",
       "  </tbody>\n",
       "</table>\n",
       "</div>"
      ],
      "text/plain": [
       "              retailer               brand   count\n",
       "2                Ae US               aerie   28328\n",
       "17           Amazon US     victoria secret      67\n",
       "3            Amazon US              wacoal   23579\n",
       "16           Amazon US         Hanky Panky     582\n",
       "7            Amazon US        Calvin Klein    7373\n",
       "11          Btemptd US              wacoal    3518\n",
       "8      Calvin Klein US        Calvin Klein    4747\n",
       "1        Hankypanky US         Hanky Panky   35005\n",
       "5             Macys US              wacoal   14200\n",
       "4             Macys US        Calvin Klein   15989\n",
       "14            Macys US         vanity fair    2575\n",
       "6             Macys US         Hanky Panky    8133\n",
       "9         Nordstrom US         Hanky Panky    4582\n",
       "10        Nordstrom US              wacoal    3974\n",
       "12        Nordstrom US        Calvin Klein    3142\n",
       "15        Nordstrom US  nordstrom lingerie     870\n",
       "13          Topshop US          us topshop    3082\n",
       "0   Victoriassecret US     victoria secret  453386"
      ]
     },
     "execution_count": 36,
     "metadata": {},
     "output_type": "execute_result"
    }
   ],
   "source": [
    "#To explore brands sold by retailers, we can create a new df with the results of the value_counts method.\n",
    "\n",
    "brands_by_retailers = pd.DataFrame(df[['retailer', 'brand_name']].value_counts())\n",
    "brands_by_retailers = brands_by_retailers.reset_index()\n",
    "brands_by_retailers.columns = ['retailer', 'brand','count']\n",
    "\n",
    "#Finally sorting values for more readability\n",
    "brands_by_retailers.sort_values(by='retailer')"
   ]
  },
  {
   "cell_type": "code",
   "execution_count": 37,
   "metadata": {},
   "outputs": [
    {
     "data": {
      "text/html": [
       "<div>\n",
       "<style scoped>\n",
       "    .dataframe tbody tr th:only-of-type {\n",
       "        vertical-align: middle;\n",
       "    }\n",
       "\n",
       "    .dataframe tbody tr th {\n",
       "        vertical-align: top;\n",
       "    }\n",
       "\n",
       "    .dataframe thead th {\n",
       "        text-align: right;\n",
       "    }\n",
       "</style>\n",
       "<table border=\"1\" class=\"dataframe\">\n",
       "  <thead>\n",
       "    <tr style=\"text-align: right;\">\n",
       "      <th></th>\n",
       "      <th>retailer</th>\n",
       "      <th>brand</th>\n",
       "      <th>count</th>\n",
       "    </tr>\n",
       "  </thead>\n",
       "  <tbody>\n",
       "    <tr>\n",
       "      <th>count</th>\n",
       "      <td>18</td>\n",
       "      <td>18</td>\n",
       "      <td>18.00</td>\n",
       "    </tr>\n",
       "    <tr>\n",
       "      <th>unique</th>\n",
       "      <td>9</td>\n",
       "      <td>8</td>\n",
       "      <td>NaN</td>\n",
       "    </tr>\n",
       "    <tr>\n",
       "      <th>top</th>\n",
       "      <td>Nordstrom US</td>\n",
       "      <td>Calvin Klein</td>\n",
       "      <td>NaN</td>\n",
       "    </tr>\n",
       "    <tr>\n",
       "      <th>freq</th>\n",
       "      <td>4</td>\n",
       "      <td>4</td>\n",
       "      <td>NaN</td>\n",
       "    </tr>\n",
       "    <tr>\n",
       "      <th>mean</th>\n",
       "      <td>NaN</td>\n",
       "      <td>NaN</td>\n",
       "      <td>34062.89</td>\n",
       "    </tr>\n",
       "    <tr>\n",
       "      <th>std</th>\n",
       "      <td>NaN</td>\n",
       "      <td>NaN</td>\n",
       "      <td>105142.54</td>\n",
       "    </tr>\n",
       "    <tr>\n",
       "      <th>min</th>\n",
       "      <td>NaN</td>\n",
       "      <td>NaN</td>\n",
       "      <td>67.00</td>\n",
       "    </tr>\n",
       "    <tr>\n",
       "      <th>25%</th>\n",
       "      <td>NaN</td>\n",
       "      <td>NaN</td>\n",
       "      <td>3097.00</td>\n",
       "    </tr>\n",
       "    <tr>\n",
       "      <th>50%</th>\n",
       "      <td>NaN</td>\n",
       "      <td>NaN</td>\n",
       "      <td>4664.50</td>\n",
       "    </tr>\n",
       "    <tr>\n",
       "      <th>75%</th>\n",
       "      <td>NaN</td>\n",
       "      <td>NaN</td>\n",
       "      <td>15541.75</td>\n",
       "    </tr>\n",
       "    <tr>\n",
       "      <th>max</th>\n",
       "      <td>NaN</td>\n",
       "      <td>NaN</td>\n",
       "      <td>453386.00</td>\n",
       "    </tr>\n",
       "  </tbody>\n",
       "</table>\n",
       "</div>"
      ],
      "text/plain": [
       "            retailer         brand      count\n",
       "count             18            18      18.00\n",
       "unique             9             8        NaN\n",
       "top     Nordstrom US  Calvin Klein        NaN\n",
       "freq               4             4        NaN\n",
       "mean             NaN           NaN   34062.89\n",
       "std              NaN           NaN  105142.54\n",
       "min              NaN           NaN      67.00\n",
       "25%              NaN           NaN    3097.00\n",
       "50%              NaN           NaN    4664.50\n",
       "75%              NaN           NaN   15541.75\n",
       "max              NaN           NaN  453386.00"
      ]
     },
     "execution_count": 37,
     "metadata": {},
     "output_type": "execute_result"
    }
   ],
   "source": [
    "#We can check descriptive statistics for categorical cols as well.\n",
    "brands_by_retailers.describe(include='all').round(2)"
   ]
  },
  {
   "cell_type": "code",
   "execution_count": null,
   "metadata": {},
   "outputs": [],
   "source": [
    "#We quickly observe that we have 9 different retailers and 8 brands. Nordstrom US sell 4 brands.\n",
    "#Calvin Klein is the brand sold by the highest number of retailers (4).\n",
    "#But this is also the case for Amazon, Macys and for Hanky Panky, Wacoal."
   ]
  },
  {
   "cell_type": "code",
   "execution_count": 38,
   "metadata": {},
   "outputs": [
    {
     "data": {
      "text/plain": [
       "<AxesSubplot:xlabel='brand', ylabel='retailer'>"
      ]
     },
     "execution_count": 38,
     "metadata": {},
     "output_type": "execute_result"
    },
    {
     "data": {
      "image/png": "[encoded data removed]",
      "text/plain": [
       "<Figure size 432x288 with 2 Axes>"
      ]
     },
     "metadata": {},
     "output_type": "display_data"
    }
   ],
   "source": [
    "#We can set a heatmap to have a better idea of the brands sold by retailers.\n",
    "\n",
    "brands_by_retailers_pivot = brands_by_retailers.pivot('retailer', 'brand','count')\n",
    "\n",
    "#I have to set a maximum value because of the size of Victoria's Secret dataframe, which is much, much higher\n",
    "#than the others, so we lose a lot of readability without a vmax.\n",
    "sns.heatmap(data=brands_by_retailers_pivot, cmap='Blues', vmin=0, vmax=40000)"
   ]
  },
  {
   "cell_type": "markdown",
   "metadata": {},
   "source": [
    "Several observations can be made from this graph. \n",
    "First, Ae US, Hanky Panky US, Topshop US, Btemptd US, Calvin Klein and Victoria's Secret US are exclusive. Those retailers sell only their brand. So we have 6/9 retailers that are exclusive, and 3 that sell multiple brands.\n",
    "\n",
    "Amazon sell 4 brands, but mostly wacoal (more than 2/3 of the total) and Calvin Klein (1/3 of the total)\n",
    "\n",
    "So we have :\n",
    "    - 6 retailers who are an exclusive e-boutique of the brand in question.\n",
    "    - 1 retailer (Nordstrom US) that sell multiple products, including its ownbrand\n",
    "    - 2 retailers who are not a underwear manufacturers but a e-boutique, with mutliple brands\n"
   ]
  },
  {
   "cell_type": "markdown",
   "metadata": {},
   "source": [
    "**Question 8:**\n",
    "As we do not have so much Victoria's Secret products in the different files.\n",
    "\n",
    "Explore the different files and the content for Calvin Klein products. \n",
    "\n",
    "Which retailers provide Calvin Klein products?\n"
   ]
  },
  {
   "cell_type": "code",
   "execution_count": 39,
   "metadata": {},
   "outputs": [
    {
     "data": {
      "text/plain": [
       "<AxesSubplot:xlabel='brand', ylabel='retailer'>"
      ]
     },
     "execution_count": 39,
     "metadata": {},
     "output_type": "execute_result"
    },
    {
     "data": {
      "image/png": "[encoded data removed]",
      "text/plain": [
       "<Figure size 432x288 with 2 Axes>"
      ]
     },
     "metadata": {},
     "output_type": "display_data"
    }
   ],
   "source": [
    "#We can reuse the heatmap, with a vmax of 1 to observe \"Which retailer have at least one calvin klein product\"\n",
    "sns.heatmap(data=brands_by_retailers_pivot, cmap='Blues', vmin=0, vmax =1)"
   ]
  },
  {
   "cell_type": "code",
   "execution_count": null,
   "metadata": {},
   "outputs": [],
   "source": [
    "#So Calvin Klein is sold by Amazon, Calvin Klein US, Macys US and Nordstrom US."
   ]
  },
  {
   "cell_type": "code",
   "execution_count": 40,
   "metadata": {},
   "outputs": [
    {
     "data": {
      "text/plain": [
       "<seaborn.axisgrid.FacetGrid at 0x1e28359aee0>"
      ]
     },
     "execution_count": 40,
     "metadata": {},
     "output_type": "execute_result"
    },
    {
     "data": {
      "image/png": "[encoded data removed]",
      "text/plain": [
       "<Figure size 360x360 with 1 Axes>"
      ]
     },
     "metadata": {},
     "output_type": "display_data"
    }
   ],
   "source": [
    "#Going further, we can reuse the pivot df made for the heatmap\n",
    "retailers_ck = brands_by_retailers_pivot['Calvin Klein']\n",
    "\n",
    "#Droping na, i.e. retailers who do not sell Calvin Klein products\n",
    "retailers_ck.dropna(inplace=True)\n",
    "retailers_ck = retailers_ck.reset_index()\n",
    "retailers_ck.columns = ['retailer','count']\n",
    "\n",
    "#And finally draw a categorical plot to compare retailers for Calvin Klein products.\n",
    "sns.catplot(data=retailers_ck, x='retailer',y='count',kind='bar')"
   ]
  },
  {
   "cell_type": "code",
   "execution_count": 229,
   "metadata": {},
   "outputs": [
    {
     "name": "stdout",
     "output_type": "stream",
     "text": [
      "We have 31251 Calvin Klein elements.\n"
     ]
    }
   ],
   "source": [
    "#Macys US sell much more Calvin Klein products that the others retailers (and more than Calvin Klein US itself!)\n",
    "sum_ck = int(retailers_ck['count'].sum())\n",
    "print(f'We have {sum_ck} Calvin Klein elements.')"
   ]
  },
  {
   "cell_type": "markdown",
   "metadata": {},
   "source": [
    "----\n",
    "**Question 9: Extraction and cleaning of Calvin Klein products data** \n",
    "\n",
    "Extract all data from each file for the Calvin Klein products. Check for the brand_name. It could be written in multiple ways. \n",
    "\n",
    "Put each in new dataframes. \n",
    "\n",
    "To do so: \n",
    "- Consider dataframes containing Clavin Klein products and preprocess each dataframe separately (it might be useful to adjust your preprocessing function when content is different)\n",
    "- Identify and extract Calvin Klein product data"
   ]
  },
  {
   "cell_type": "code",
   "execution_count": 41,
   "metadata": {},
   "outputs": [
    {
     "data": {
      "text/html": [
       "<div>\n",
       "<style scoped>\n",
       "    .dataframe tbody tr th:only-of-type {\n",
       "        vertical-align: middle;\n",
       "    }\n",
       "\n",
       "    .dataframe tbody tr th {\n",
       "        vertical-align: top;\n",
       "    }\n",
       "\n",
       "    .dataframe thead th {\n",
       "        text-align: right;\n",
       "    }\n",
       "</style>\n",
       "<table border=\"1\" class=\"dataframe\">\n",
       "  <thead>\n",
       "    <tr style=\"text-align: right;\">\n",
       "      <th></th>\n",
       "      <th>product_name</th>\n",
       "      <th>mrp</th>\n",
       "      <th>price</th>\n",
       "      <th>pdp_url</th>\n",
       "      <th>brand_name</th>\n",
       "      <th>product_category</th>\n",
       "      <th>retailer</th>\n",
       "      <th>description</th>\n",
       "      <th>rating</th>\n",
       "      <th>review_count</th>\n",
       "      <th>style_attributes</th>\n",
       "      <th>total_sizes</th>\n",
       "      <th>available_size</th>\n",
       "      <th>color</th>\n",
       "    </tr>\n",
       "  </thead>\n",
       "  <tbody>\n",
       "    <tr>\n",
       "      <th>28328</th>\n",
       "      <td>Calvin Klein Women's Sheer Marquisette Demi Un...</td>\n",
       "      <td>36.0</td>\n",
       "      <td>32.4</td>\n",
       "      <td>https://www.amazon.com/-/dp/B01NAVD98J?th=1&amp;psc=1</td>\n",
       "      <td>Calvin Klein</td>\n",
       "      <td>Bras</td>\n",
       "      <td>Amazon US</td>\n",
       "      <td>An unlined demi cup bra featuring sheer, sexy ...</td>\n",
       "      <td>4.5</td>\n",
       "      <td>47.0</td>\n",
       "      <td>[ 72% Nylon, 28% Elastane , Imported , hook an...</td>\n",
       "      <td>30B , 30C , 30D , 30DD , 32A , 32B , 32C , 32D...</td>\n",
       "      <td>30B , 30C , 30D , 30DD , 32B , 32C , 32D , 32D...</td>\n",
       "      <td>Bare</td>\n",
       "    </tr>\n",
       "    <tr>\n",
       "      <th>28334</th>\n",
       "      <td>Calvin Klein Women's Seductive Comfort Tailore...</td>\n",
       "      <td>44.0</td>\n",
       "      <td>44.0</td>\n",
       "      <td>https://www.amazon.com/-/dp/B00GB81G3A?th=1&amp;psc=1</td>\n",
       "      <td>Calvin Klein</td>\n",
       "      <td>Bras</td>\n",
       "      <td>Amazon US</td>\n",
       "      <td>Calvin Klein Black is an updated version of CK...</td>\n",
       "      <td>4.2</td>\n",
       "      <td>409.0</td>\n",
       "      <td>[ 76% Nylon/24% Elastane , Imported , hook and...</td>\n",
       "      <td>30C , 30D , 30DD , 32A , 32B , 32C , 32D , 32D...</td>\n",
       "      <td>32D , 32DD , 34DD , 36D , 36DD , 36DDD</td>\n",
       "      <td>Black Coffee</td>\n",
       "    </tr>\n",
       "    <tr>\n",
       "      <th>28335</th>\n",
       "      <td>Calvin Klein Women's Modern Cotton Bikini</td>\n",
       "      <td>20.0</td>\n",
       "      <td>20.0</td>\n",
       "      <td>https://www.amazon.com/-/dp/B06XSMGG76?th=1&amp;psc=1</td>\n",
       "      <td>Calvin Klein</td>\n",
       "      <td>Panties</td>\n",
       "      <td>Amazon US</td>\n",
       "      <td>Soft jersey Calvin Klein Underwear briefs with...</td>\n",
       "      <td>4.7</td>\n",
       "      <td>507.0</td>\n",
       "      <td>[ Cute and comfortable everyday bikini , Embos...</td>\n",
       "      <td>X-Small , Small , Medium , Large , X-Large</td>\n",
       "      <td>Small , Medium , Large</td>\n",
       "      <td>Salt Lake</td>\n",
       "    </tr>\n",
       "  </tbody>\n",
       "</table>\n",
       "</div>"
      ],
      "text/plain": [
       "                                            product_name   mrp  price  \\\n",
       "28328  Calvin Klein Women's Sheer Marquisette Demi Un...  36.0   32.4   \n",
       "28334  Calvin Klein Women's Seductive Comfort Tailore...  44.0   44.0   \n",
       "28335          Calvin Klein Women's Modern Cotton Bikini  20.0   20.0   \n",
       "\n",
       "                                                 pdp_url    brand_name  \\\n",
       "28328  https://www.amazon.com/-/dp/B01NAVD98J?th=1&psc=1  Calvin Klein   \n",
       "28334  https://www.amazon.com/-/dp/B00GB81G3A?th=1&psc=1  Calvin Klein   \n",
       "28335  https://www.amazon.com/-/dp/B06XSMGG76?th=1&psc=1  Calvin Klein   \n",
       "\n",
       "      product_category   retailer  \\\n",
       "28328             Bras  Amazon US   \n",
       "28334             Bras  Amazon US   \n",
       "28335          Panties  Amazon US   \n",
       "\n",
       "                                             description  rating  \\\n",
       "28328  An unlined demi cup bra featuring sheer, sexy ...     4.5   \n",
       "28334  Calvin Klein Black is an updated version of CK...     4.2   \n",
       "28335  Soft jersey Calvin Klein Underwear briefs with...     4.7   \n",
       "\n",
       "       review_count                                   style_attributes  \\\n",
       "28328          47.0  [ 72% Nylon, 28% Elastane , Imported , hook an...   \n",
       "28334         409.0  [ 76% Nylon/24% Elastane , Imported , hook and...   \n",
       "28335         507.0  [ Cute and comfortable everyday bikini , Embos...   \n",
       "\n",
       "                                             total_sizes  \\\n",
       "28328  30B , 30C , 30D , 30DD , 32A , 32B , 32C , 32D...   \n",
       "28334  30C , 30D , 30DD , 32A , 32B , 32C , 32D , 32D...   \n",
       "28335         X-Small , Small , Medium , Large , X-Large   \n",
       "\n",
       "                                          available_size         color  \n",
       "28328  30B , 30C , 30D , 30DD , 32B , 32C , 32D , 32D...          Bare  \n",
       "28334             32D , 32DD , 34DD , 36D , 36DD , 36DDD  Black Coffee  \n",
       "28335                             Small , Medium , Large     Salt Lake  "
      ]
     },
     "execution_count": 41,
     "metadata": {},
     "output_type": "execute_result"
    }
   ],
   "source": [
    "#Again, since I've already merged all df and preprocessed brand_name, \n",
    "#I will create a new variable with only rows that have a brand_name equal to Calvin Klein.\n",
    "df_ck = df.query('brand_name == \"Calvin Klein\"')\n",
    "df_ck.head(3)"
   ]
  },
  {
   "cell_type": "code",
   "execution_count": 42,
   "metadata": {},
   "outputs": [
    {
     "data": {
      "text/html": [
       "<div>\n",
       "<style scoped>\n",
       "    .dataframe tbody tr th:only-of-type {\n",
       "        vertical-align: middle;\n",
       "    }\n",
       "\n",
       "    .dataframe tbody tr th {\n",
       "        vertical-align: top;\n",
       "    }\n",
       "\n",
       "    .dataframe thead th {\n",
       "        text-align: right;\n",
       "    }\n",
       "</style>\n",
       "<table border=\"1\" class=\"dataframe\">\n",
       "  <thead>\n",
       "    <tr style=\"text-align: right;\">\n",
       "      <th></th>\n",
       "      <th>mrp</th>\n",
       "      <th>price</th>\n",
       "      <th>rating</th>\n",
       "      <th>review_count</th>\n",
       "    </tr>\n",
       "  </thead>\n",
       "  <tbody>\n",
       "    <tr>\n",
       "      <th>count</th>\n",
       "      <td>31251.00</td>\n",
       "      <td>31251.00</td>\n",
       "      <td>18126.00</td>\n",
       "      <td>18131.00</td>\n",
       "    </tr>\n",
       "    <tr>\n",
       "      <th>mean</th>\n",
       "      <td>30.24</td>\n",
       "      <td>27.31</td>\n",
       "      <td>4.34</td>\n",
       "      <td>87.96</td>\n",
       "    </tr>\n",
       "    <tr>\n",
       "      <th>std</th>\n",
       "      <td>15.43</td>\n",
       "      <td>14.68</td>\n",
       "      <td>0.50</td>\n",
       "      <td>152.99</td>\n",
       "    </tr>\n",
       "    <tr>\n",
       "      <th>min</th>\n",
       "      <td>7.51</td>\n",
       "      <td>4.99</td>\n",
       "      <td>0.00</td>\n",
       "      <td>1.00</td>\n",
       "    </tr>\n",
       "    <tr>\n",
       "      <th>25%</th>\n",
       "      <td>13.00</td>\n",
       "      <td>13.00</td>\n",
       "      <td>4.00</td>\n",
       "      <td>4.00</td>\n",
       "    </tr>\n",
       "    <tr>\n",
       "      <th>50%</th>\n",
       "      <td>28.00</td>\n",
       "      <td>24.00</td>\n",
       "      <td>4.40</td>\n",
       "      <td>16.00</td>\n",
       "    </tr>\n",
       "    <tr>\n",
       "      <th>75%</th>\n",
       "      <td>39.00</td>\n",
       "      <td>37.80</td>\n",
       "      <td>4.70</td>\n",
       "      <td>69.00</td>\n",
       "    </tr>\n",
       "    <tr>\n",
       "      <th>max</th>\n",
       "      <td>98.00</td>\n",
       "      <td>98.00</td>\n",
       "      <td>5.00</td>\n",
       "      <td>532.00</td>\n",
       "    </tr>\n",
       "  </tbody>\n",
       "</table>\n",
       "</div>"
      ],
      "text/plain": [
       "            mrp     price    rating  review_count\n",
       "count  31251.00  31251.00  18126.00      18131.00\n",
       "mean      30.24     27.31      4.34         87.96\n",
       "std       15.43     14.68      0.50        152.99\n",
       "min        7.51      4.99      0.00          1.00\n",
       "25%       13.00     13.00      4.00          4.00\n",
       "50%       28.00     24.00      4.40         16.00\n",
       "75%       39.00     37.80      4.70         69.00\n",
       "max       98.00     98.00      5.00        532.00"
      ]
     },
     "execution_count": 42,
     "metadata": {},
     "output_type": "execute_result"
    }
   ],
   "source": [
    "df_ck.describe().round(2)"
   ]
  },
  {
   "cell_type": "code",
   "execution_count": 43,
   "metadata": {},
   "outputs": [
    {
     "data": {
      "text/plain": [
       "<AxesSubplot:xlabel='price', ylabel='retailer'>"
      ]
     },
     "execution_count": 43,
     "metadata": {},
     "output_type": "execute_result"
    },
    {
     "data": {
      "image/png": "[encoded data removed]",
      "text/plain": [
       "<Figure size 432x288 with 1 Axes>"
      ]
     },
     "metadata": {},
     "output_type": "display_data"
    }
   ],
   "source": [
    "sns.boxplot(data=df_ck,x='price',y='retailer')"
   ]
  },
  {
   "cell_type": "code",
   "execution_count": null,
   "metadata": {},
   "outputs": [],
   "source": [
    "#Interesting to see that price quartiles start at the same position for Calvin Klein, Macys & Nordstrom but not for Amazon\n",
    "#Amazon prices are higher, especially the median price\n",
    "#Price is very condensed in Calvin Klein US, with a few outliers\n",
    "#Price is much more spreaded in Macys US, we some outliers as well"
   ]
  },
  {
   "cell_type": "code",
   "execution_count": 230,
   "metadata": {},
   "outputs": [],
   "source": [
    "#It could be maybe interesting to analyse the difference between mrp & prices across the retailers.\n",
    "#So we can create a new column, \"price_difference\".\n",
    "#Every value is the price difference in proportion.\n",
    "df_ck['price_difference'] = (df_ck.mrp - df_ck.price) / df_ck.price"
   ]
  },
  {
   "cell_type": "code",
   "execution_count": 45,
   "metadata": {},
   "outputs": [
    {
     "data": {
      "text/plain": [
       "<AxesSubplot:xlabel='price_difference', ylabel='retailer'>"
      ]
     },
     "execution_count": 45,
     "metadata": {},
     "output_type": "execute_result"
    },
    {
     "data": {
      "image/png": "[encoded data removed]",
      "text/plain": [
       "<Figure size 432x288 with 1 Axes>"
      ]
     },
     "metadata": {},
     "output_type": "display_data"
    }
   ],
   "source": [
    "sns.boxplot(data=df_ck,x='price_difference',y='retailer')"
   ]
  },
  {
   "cell_type": "markdown",
   "metadata": {},
   "source": [
    "We observe that excpet for a very few products, the observed price is almost exactly the same than the maximum retail price for Calvin Klein US and Macys US. But for Amazon and Nordstrom, the difference goes from 0 to 50% most of the time.\n",
    "\n",
    "There is 1 product that does not respect the mrp in Macys US (because the value is negative, so the price is higher than the mrp. It could be also an error in the original data or during data collection.\n"
   ]
  },
  {
   "cell_type": "code",
   "execution_count": 231,
   "metadata": {},
   "outputs": [
    {
     "data": {
      "text/html": [
       "<div>\n",
       "<style scoped>\n",
       "    .dataframe tbody tr th:only-of-type {\n",
       "        vertical-align: middle;\n",
       "    }\n",
       "\n",
       "    .dataframe tbody tr th {\n",
       "        vertical-align: top;\n",
       "    }\n",
       "\n",
       "    .dataframe thead th {\n",
       "        text-align: right;\n",
       "    }\n",
       "</style>\n",
       "<table border=\"1\" class=\"dataframe\">\n",
       "  <thead>\n",
       "    <tr style=\"text-align: right;\">\n",
       "      <th></th>\n",
       "      <th>product_name</th>\n",
       "      <th>mrp</th>\n",
       "      <th>price</th>\n",
       "      <th>pdp_url</th>\n",
       "      <th>brand_name</th>\n",
       "      <th>product_category</th>\n",
       "      <th>retailer</th>\n",
       "      <th>description</th>\n",
       "      <th>rating</th>\n",
       "      <th>review_count</th>\n",
       "      <th>style_attributes</th>\n",
       "      <th>total_sizes</th>\n",
       "      <th>available_size</th>\n",
       "      <th>color</th>\n",
       "      <th>price_difference</th>\n",
       "    </tr>\n",
       "  </thead>\n",
       "  <tbody>\n",
       "    <tr>\n",
       "      <th>120920</th>\n",
       "      <td>CK Black Collection Temptation Silk Romper QS5495</td>\n",
       "      <td>70.0</td>\n",
       "      <td>90.0</td>\n",
       "      <td>http://www1.macys.com/shop/product/calvin-klei...</td>\n",
       "      <td>Calvin Klein</td>\n",
       "      <td>Women - Lingerie &amp; Shapewear - Designer Lingerie</td>\n",
       "      <td>Macys US</td>\n",
       "      <td>Stylish meets sensual in this silk and mesh ro...</td>\n",
       "      <td>NaN</td>\n",
       "      <td>NaN</td>\n",
       "      <td>[\"Boat neck\", \"Sheer mesh side panels\", \"Silk ...</td>\n",
       "      <td>[\"S\", \"M\", \"L\"]</td>\n",
       "      <td>[\"S\", \"M\", \"L\"]</td>\n",
       "      <td>Black</td>\n",
       "      <td>-0.222222</td>\n",
       "    </tr>\n",
       "  </tbody>\n",
       "</table>\n",
       "</div>"
      ],
      "text/plain": [
       "                                             product_name   mrp  price  \\\n",
       "120920  CK Black Collection Temptation Silk Romper QS5495  70.0   90.0   \n",
       "\n",
       "                                                  pdp_url    brand_name  \\\n",
       "120920  http://www1.macys.com/shop/product/calvin-klei...  Calvin Klein   \n",
       "\n",
       "                                        product_category  retailer  \\\n",
       "120920  Women - Lingerie & Shapewear - Designer Lingerie  Macys US   \n",
       "\n",
       "                                              description  rating  \\\n",
       "120920  Stylish meets sensual in this silk and mesh ro...     NaN   \n",
       "\n",
       "        review_count                                   style_attributes  \\\n",
       "120920           NaN  [\"Boat neck\", \"Sheer mesh side panels\", \"Silk ...   \n",
       "\n",
       "            total_sizes   available_size  color  price_difference  \n",
       "120920  [\"S\", \"M\", \"L\"]  [\"S\", \"M\", \"L\"]  Black         -0.222222  "
      ]
     },
     "execution_count": 231,
     "metadata": {},
     "output_type": "execute_result"
    }
   ],
   "source": [
    "#Checking negative price difference\n",
    "df_ck.loc[(df_ck['price_difference'] < 0)]"
   ]
  },
  {
   "cell_type": "code",
   "execution_count": 46,
   "metadata": {},
   "outputs": [],
   "source": [
    "#Groupby retailer\n",
    "df_ck_retailer = df_ck.groupby('retailer')"
   ]
  },
  {
   "cell_type": "code",
   "execution_count": 47,
   "metadata": {},
   "outputs": [
    {
     "data": {
      "text/html": [
       "<div>\n",
       "<style scoped>\n",
       "    .dataframe tbody tr th:only-of-type {\n",
       "        vertical-align: middle;\n",
       "    }\n",
       "\n",
       "    .dataframe tbody tr th {\n",
       "        vertical-align: top;\n",
       "    }\n",
       "\n",
       "    .dataframe thead th {\n",
       "        text-align: right;\n",
       "    }\n",
       "</style>\n",
       "<table border=\"1\" class=\"dataframe\">\n",
       "  <thead>\n",
       "    <tr style=\"text-align: right;\">\n",
       "      <th></th>\n",
       "      <th>count</th>\n",
       "      <th>mean</th>\n",
       "      <th>std</th>\n",
       "      <th>min</th>\n",
       "      <th>25%</th>\n",
       "      <th>50%</th>\n",
       "      <th>75%</th>\n",
       "      <th>max</th>\n",
       "    </tr>\n",
       "    <tr>\n",
       "      <th>retailer</th>\n",
       "      <th></th>\n",
       "      <th></th>\n",
       "      <th></th>\n",
       "      <th></th>\n",
       "      <th></th>\n",
       "      <th></th>\n",
       "      <th></th>\n",
       "      <th></th>\n",
       "    </tr>\n",
       "  </thead>\n",
       "  <tbody>\n",
       "    <tr>\n",
       "      <th>Amazon US</th>\n",
       "      <td>7373.0</td>\n",
       "      <td>0.185238</td>\n",
       "      <td>0.287151</td>\n",
       "      <td>0.000000</td>\n",
       "      <td>0.0</td>\n",
       "      <td>0.109244</td>\n",
       "      <td>0.333333</td>\n",
       "      <td>2.754789</td>\n",
       "    </tr>\n",
       "    <tr>\n",
       "      <th>Calvin Klein US</th>\n",
       "      <td>4747.0</td>\n",
       "      <td>0.148018</td>\n",
       "      <td>0.345211</td>\n",
       "      <td>0.000000</td>\n",
       "      <td>0.0</td>\n",
       "      <td>0.000000</td>\n",
       "      <td>0.000000</td>\n",
       "      <td>3.008016</td>\n",
       "    </tr>\n",
       "    <tr>\n",
       "      <th>Macys US</th>\n",
       "      <td>15989.0</td>\n",
       "      <td>0.117783</td>\n",
       "      <td>0.289831</td>\n",
       "      <td>-0.222222</td>\n",
       "      <td>0.0</td>\n",
       "      <td>0.000000</td>\n",
       "      <td>0.000000</td>\n",
       "      <td>1.251126</td>\n",
       "    </tr>\n",
       "    <tr>\n",
       "      <th>Nordstrom US</th>\n",
       "      <td>3142.0</td>\n",
       "      <td>0.161092</td>\n",
       "      <td>0.244455</td>\n",
       "      <td>0.000000</td>\n",
       "      <td>0.0</td>\n",
       "      <td>0.000000</td>\n",
       "      <td>0.428571</td>\n",
       "      <td>0.669449</td>\n",
       "    </tr>\n",
       "  </tbody>\n",
       "</table>\n",
       "</div>"
      ],
      "text/plain": [
       "                   count      mean       std       min  25%       50%  \\\n",
       "retailer                                                                \n",
       "Amazon US         7373.0  0.185238  0.287151  0.000000  0.0  0.109244   \n",
       "Calvin Klein US   4747.0  0.148018  0.345211  0.000000  0.0  0.000000   \n",
       "Macys US         15989.0  0.117783  0.289831 -0.222222  0.0  0.000000   \n",
       "Nordstrom US      3142.0  0.161092  0.244455  0.000000  0.0  0.000000   \n",
       "\n",
       "                      75%       max  \n",
       "retailer                             \n",
       "Amazon US        0.333333  2.754789  \n",
       "Calvin Klein US  0.000000  3.008016  \n",
       "Macys US         0.000000  1.251126  \n",
       "Nordstrom US     0.428571  0.669449  "
      ]
     },
     "execution_count": 47,
     "metadata": {},
     "output_type": "execute_result"
    }
   ],
   "source": [
    "#Checking desc stats for different retailers\n",
    "df_ck_retailer.price_difference.describe()"
   ]
  },
  {
   "cell_type": "code",
   "execution_count": null,
   "metadata": {},
   "outputs": [],
   "source": [
    "#As we observed in the boxplot, Macys US and Calvin Klein does not apply any \"discount\" more than 75% of the time.\n",
    "#We observe that the mean is not relevant to compare price difference : for exemple, it is 15% for Calvin Klein US\n",
    "#But more than 75% of the time, CK does not apply any discount."
   ]
  },
  {
   "cell_type": "markdown",
   "metadata": {},
   "source": [
    "**Question 10:**\n",
    "\n",
    "Consider your Calvin Klein dataFrame. \n",
    "\n",
    "Extract the description of every product, only keep the unique description, and count which words appear the most. "
   ]
  },
  {
   "cell_type": "code",
   "execution_count": 49,
   "metadata": {},
   "outputs": [
    {
     "data": {
      "text/html": [
       "<div>\n",
       "<style scoped>\n",
       "    .dataframe tbody tr th:only-of-type {\n",
       "        vertical-align: middle;\n",
       "    }\n",
       "\n",
       "    .dataframe tbody tr th {\n",
       "        vertical-align: top;\n",
       "    }\n",
       "\n",
       "    .dataframe thead th {\n",
       "        text-align: right;\n",
       "    }\n",
       "</style>\n",
       "<table border=\"1\" class=\"dataframe\">\n",
       "  <thead>\n",
       "    <tr style=\"text-align: right;\">\n",
       "      <th></th>\n",
       "      <th>words</th>\n",
       "    </tr>\n",
       "  </thead>\n",
       "  <tbody>\n",
       "    <tr>\n",
       "      <th>count</th>\n",
       "      <td>8808</td>\n",
       "    </tr>\n",
       "    <tr>\n",
       "      <th>unique</th>\n",
       "      <td>1311</td>\n",
       "    </tr>\n",
       "    <tr>\n",
       "      <th>top</th>\n",
       "      <td>a</td>\n",
       "    </tr>\n",
       "    <tr>\n",
       "      <th>freq</th>\n",
       "      <td>403</td>\n",
       "    </tr>\n",
       "  </tbody>\n",
       "</table>\n",
       "</div>"
      ],
      "text/plain": [
       "       words\n",
       "count   8808\n",
       "unique  1311\n",
       "top        a\n",
       "freq     403"
      ]
     },
     "execution_count": 49,
     "metadata": {},
     "output_type": "execute_result"
    }
   ],
   "source": [
    "#First, I will extract the unique description and saving into a list for further processing.\n",
    "ck_desc = list(df_ck['description'].unique())\n",
    "words_df = pd.DataFrame()\n",
    "\n",
    "#Looping over this list and saving each word, excluding punctuation, into a new df\n",
    "for e in ck_desc:\n",
    "    words = str(e).strip('.').strip(',').split(sep=' ')\n",
    "    words_df = words_df.append(words)\n",
    "\n",
    "#Finally we have a df were each row is a word (non-unique)  \n",
    "words_df.columns = ['words']\n",
    "words_df.describe()"
   ]
  },
  {
   "cell_type": "code",
   "execution_count": null,
   "metadata": {},
   "outputs": [],
   "source": [
    "#There are 8808 words, 1311 uniques."
   ]
  },
  {
   "cell_type": "code",
   "execution_count": 50,
   "metadata": {},
   "outputs": [
    {
     "data": {
      "text/html": [
       "<div>\n",
       "<style scoped>\n",
       "    .dataframe tbody tr th:only-of-type {\n",
       "        vertical-align: middle;\n",
       "    }\n",
       "\n",
       "    .dataframe tbody tr th {\n",
       "        vertical-align: top;\n",
       "    }\n",
       "\n",
       "    .dataframe thead th {\n",
       "        text-align: right;\n",
       "    }\n",
       "</style>\n",
       "<table border=\"1\" class=\"dataframe\">\n",
       "  <thead>\n",
       "    <tr style=\"text-align: right;\">\n",
       "      <th></th>\n",
       "      <th>word</th>\n",
       "      <th>count</th>\n",
       "    </tr>\n",
       "  </thead>\n",
       "  <tbody>\n",
       "    <tr>\n",
       "      <th>0</th>\n",
       "      <td>a</td>\n",
       "      <td>469</td>\n",
       "    </tr>\n",
       "    <tr>\n",
       "      <th>1</th>\n",
       "      <td>and</td>\n",
       "      <td>348</td>\n",
       "    </tr>\n",
       "    <tr>\n",
       "      <th>2</th>\n",
       "      <td>the</td>\n",
       "      <td>263</td>\n",
       "    </tr>\n",
       "    <tr>\n",
       "      <th>3</th>\n",
       "      <td>calvin</td>\n",
       "      <td>246</td>\n",
       "    </tr>\n",
       "    <tr>\n",
       "      <th>4</th>\n",
       "      <td>with</td>\n",
       "      <td>206</td>\n",
       "    </tr>\n",
       "    <tr>\n",
       "      <th>5</th>\n",
       "      <td>klein</td>\n",
       "      <td>206</td>\n",
       "    </tr>\n",
       "    <tr>\n",
       "      <th>6</th>\n",
       "      <td>this</td>\n",
       "      <td>202</td>\n",
       "    </tr>\n",
       "    <tr>\n",
       "      <th>7</th>\n",
       "      <td>logo</td>\n",
       "      <td>170</td>\n",
       "    </tr>\n",
       "    <tr>\n",
       "      <th>8</th>\n",
       "      <td>from</td>\n",
       "      <td>161</td>\n",
       "    </tr>\n",
       "    <tr>\n",
       "      <th>9</th>\n",
       "      <td>in</td>\n",
       "      <td>143</td>\n",
       "    </tr>\n",
       "  </tbody>\n",
       "</table>\n",
       "</div>"
      ],
      "text/plain": [
       "     word  count\n",
       "0       a    469\n",
       "1     and    348\n",
       "2     the    263\n",
       "3  calvin    246\n",
       "4    with    206\n",
       "5   klein    206\n",
       "6    this    202\n",
       "7    logo    170\n",
       "8    from    161\n",
       "9      in    143"
      ]
     },
     "execution_count": 50,
     "metadata": {},
     "output_type": "execute_result"
    }
   ],
   "source": [
    "#We can create a new df with the value_counts results for each word.\n",
    "words_df = pd.DataFrame(words_df.words.str.lower().value_counts()).reset_index()\n",
    "words_df.columns = ['word', 'count']\n",
    "words_df.head(10)"
   ]
  },
  {
   "cell_type": "code",
   "execution_count": 51,
   "metadata": {},
   "outputs": [
    {
     "data": {
      "text/html": [
       "<div>\n",
       "<style scoped>\n",
       "    .dataframe tbody tr th:only-of-type {\n",
       "        vertical-align: middle;\n",
       "    }\n",
       "\n",
       "    .dataframe tbody tr th {\n",
       "        vertical-align: top;\n",
       "    }\n",
       "\n",
       "    .dataframe thead th {\n",
       "        text-align: right;\n",
       "    }\n",
       "</style>\n",
       "<table border=\"1\" class=\"dataframe\">\n",
       "  <thead>\n",
       "    <tr style=\"text-align: right;\">\n",
       "      <th></th>\n",
       "      <th>word</th>\n",
       "      <th>count</th>\n",
       "    </tr>\n",
       "  </thead>\n",
       "  <tbody>\n",
       "    <tr>\n",
       "      <th>0</th>\n",
       "      <td>calvin</td>\n",
       "      <td>246</td>\n",
       "    </tr>\n",
       "    <tr>\n",
       "      <th>1</th>\n",
       "      <td>klein</td>\n",
       "      <td>206</td>\n",
       "    </tr>\n",
       "    <tr>\n",
       "      <th>2</th>\n",
       "      <td>logo</td>\n",
       "      <td>170</td>\n",
       "    </tr>\n",
       "  </tbody>\n",
       "</table>\n",
       "</div>"
      ],
      "text/plain": [
       "     word  count\n",
       "0  calvin    246\n",
       "1   klein    206\n",
       "2    logo    170"
      ]
     },
     "execution_count": 51,
     "metadata": {},
     "output_type": "execute_result"
    }
   ],
   "source": [
    "#Dropping unrelevant words for the analysis, because they are very frequent but does not have very useful info.\n",
    "\n",
    "words_to_drop = ['and','this','the','with','from','a','in','to',\n",
    "                 'is','by','of','for','at','that','your','you','an']\n",
    "\n",
    "words_df = words_df[~words_df['word'].isin(words_to_drop)].reset_index(drop=True)\n",
    "words_df.head(3)"
   ]
  },
  {
   "cell_type": "code",
   "execution_count": 52,
   "metadata": {},
   "outputs": [
    {
     "data": {
      "text/plain": [
       "<seaborn.axisgrid.FacetGrid at 0x1e283163670>"
      ]
     },
     "execution_count": 52,
     "metadata": {},
     "output_type": "execute_result"
    },
    {
     "data": {
      "image/png": "[encoded data removed]",
      "text/plain": [
       "<Figure size 360x360 with 1 Axes>"
      ]
     },
     "metadata": {},
     "output_type": "display_data"
    }
   ],
   "source": [
    "#We can plot the 20 most frequent words in a catplot.\n",
    "\n",
    "word_graph = words_df.loc[0:20]\n",
    "sns.catplot(data=word_graph, x='count',y='word', kind='bar')"
   ]
  },
  {
   "cell_type": "code",
   "execution_count": null,
   "metadata": {},
   "outputs": [],
   "source": [
    "#Without much surprise, calvin and klein are the most fequent word.\n",
    "#Then, \"logo\" appear. I would rudely conclude that this is for every product that have a visible CK logo.\n",
    "#Then we observe some words that describe the category ('bra', 'thong' ...)\n",
    "#And some that describe the materials/composition ('coton'...)"
   ]
  },
  {
   "cell_type": "code",
   "execution_count": 53,
   "metadata": {},
   "outputs": [],
   "source": [
    "#I found a library on the web that can draw an image with our results, we will try it\n",
    "from os import path\n",
    "from wordcloud import WordCloud\n",
    "words_dict = {}\n",
    "words_dict = {i:e for i,e in zip(words_df['word'],words_df['count'])}"
   ]
  },
  {
   "cell_type": "code",
   "execution_count": 54,
   "metadata": {},
   "outputs": [
    {
     "data": {
      "image/png": "[encoded data removed]",
      "text/plain": [
       "<Figure size 432x288 with 1 Axes>"
      ]
     },
     "metadata": {},
     "output_type": "display_data"
    }
   ],
   "source": [
    "#To be honest, I haven't fully taken the time to understand how this code works (just enough to adapt it).\n",
    "\n",
    "wordcloud = WordCloud(max_font_size=60, collocations=False).generate(\" \".join([(k + ' ') * v for k,v in words_dict.items()]))\n",
    "\n",
    "plt.figure()\n",
    "plt.imshow(wordcloud, interpolation=\"bilinear\")\n",
    "plt.axis(\"off\")\n",
    "plt.show()"
   ]
  },
  {
   "cell_type": "markdown",
   "metadata": {},
   "source": [
    "**Question 11:**\n",
    "\n",
    "Consider all dataframes (you might concat them all into one after having processed them separately).\n",
    "\n",
    "- which categories of products are sold most?\n",
    "- which products are sold most?\n",
    "- which products have the highest ratings?\n",
    "- what are the top sellers (sold most and best ratings)?\n",
    "- what is the top product color (sold most and best ratings)?"
   ]
  },
  {
   "cell_type": "markdown",
   "metadata": {},
   "source": [
    "#### 11.a ) which categories of products are sold most?"
   ]
  },
  {
   "cell_type": "code",
   "execution_count": 55,
   "metadata": {},
   "outputs": [
    {
     "data": {
      "text/plain": [
       "Demi Bra                            39865\n",
       "Push-Up Bra                         36452\n",
       "Bras                                31129\n",
       "Perfect Coverage Bra                24762\n",
       "Incredible by Victoria Sport Bra    19437\n",
       "                                    ...  \n",
       "XO Lace Bodysuit                        5\n",
       "Embroidered Triangle Bra                4\n",
       "Fresh & Clean Gym Kit                   3\n",
       "Coconut Waters Travel Kit               3\n",
       "Heart Lace Garter Belt                  2\n",
       "Name: product_category, Length: 525, dtype: int64"
      ]
     },
     "execution_count": 55,
     "metadata": {},
     "output_type": "execute_result"
    }
   ],
   "source": [
    "df['product_category'].value_counts()"
   ]
  },
  {
   "cell_type": "code",
   "execution_count": 56,
   "metadata": {},
   "outputs": [
    {
     "data": {
      "text/plain": [
       "product_category                                \n",
       "bra                                                 413463\n",
       "women - lingerie & shapewear - designer lingerie     18893\n",
       "collections                                          16768\n",
       "panties                                              13008\n",
       "women - lingerie & shapewear - panties               10592\n",
       "                                                     ...  \n",
       "mesh & lace cheeky panty                                 5\n",
       "xo lace bodysuit                                         5\n",
       "coconut waters travel kit                                3\n",
       "fresh & clean gym kit                                    3\n",
       "heart lace garter belt                                   2\n",
       "Length: 341, dtype: int64"
      ]
     },
     "execution_count": 56,
     "metadata": {},
     "output_type": "execute_result"
    }
   ],
   "source": [
    "#525 categories ! For me, this is impossible to do something relevant with this.\n",
    "\n",
    "#First saving product categories into another variable to do some test on\n",
    "\n",
    "categories = pd.DataFrame(df['product_category'].str.lower())\n",
    "\n",
    "#We first see that \"bra\" appear multiple times in various forms, so we will start here\n",
    "categories.loc[categories.product_category.str.contains(\"bra|push\"), 'product_category'] = \"bra\"\n",
    "categories.value_counts()"
   ]
  },
  {
   "cell_type": "code",
   "execution_count": 57,
   "metadata": {},
   "outputs": [
    {
     "data": {
      "text/plain": [
       "product_category         \n",
       "bra                          413463\n",
       "panties                      108239\n",
       "lingerie                      31389\n",
       "collections                   16768\n",
       "bikini                         8122\n",
       "                              ...  \n",
       "fishnet lace dress                6\n",
       "xo lace bodysuit                  5\n",
       "super softmuscle tank             5\n",
       "coconut waters travel kit         3\n",
       "heart lace garter belt            2\n",
       "Length: 146, dtype: int64"
      ]
     },
     "execution_count": 57,
     "metadata": {},
     "output_type": "execute_result"
    }
   ],
   "source": [
    "#After some google research on the lingerie lexical and in our categories, we can try this\n",
    "\n",
    "#Panties\n",
    "categories.loc[categories.product_category.str.contains(\"panty|pantie|panties|thong|cheekster|boyshort|cheekies|hipster\"), 'product_category'] = \"panties\"\n",
    "\n",
    "#Bikini\n",
    "categories.loc[categories.product_category.str.contains(\"bikini|one piece|one-piece|triangle\"), 'product_category'] = \"bikini\"\n",
    "\n",
    "#Slip\n",
    "categories.loc[categories.product_category.str.contains(\"slip\"), 'product_category'] = \"slip\"\n",
    "\n",
    "#Sport\n",
    "categories.loc[categories.product_category.str.contains(\"strappy|sport|gym\"), 'product_category'] = \"sport underwear\"\n",
    "\n",
    "#Lingerie\n",
    "categories.loc[categories.product_category.str.contains(\"lingerie\"), 'product_category'] = \"lingerie\"\n",
    "\n",
    "#Boybriefs\n",
    "categories.loc[categories.product_category.str.contains(\"boy\"), 'product_category'] = \"boybriefs\"\n",
    "\n",
    "categories.value_counts()"
   ]
  },
  {
   "cell_type": "code",
   "execution_count": 58,
   "metadata": {},
   "outputs": [
    {
     "data": {
      "text/html": [
       "<div>\n",
       "<style scoped>\n",
       "    .dataframe tbody tr th:only-of-type {\n",
       "        vertical-align: middle;\n",
       "    }\n",
       "\n",
       "    .dataframe tbody tr th {\n",
       "        vertical-align: top;\n",
       "    }\n",
       "\n",
       "    .dataframe thead th {\n",
       "        text-align: right;\n",
       "    }\n",
       "</style>\n",
       "<table border=\"1\" class=\"dataframe\">\n",
       "  <thead>\n",
       "    <tr style=\"text-align: right;\">\n",
       "      <th></th>\n",
       "      <th>category</th>\n",
       "      <th>count</th>\n",
       "    </tr>\n",
       "  </thead>\n",
       "  <tbody>\n",
       "    <tr>\n",
       "      <th>10</th>\n",
       "      <td>racerback</td>\n",
       "      <td>1186</td>\n",
       "    </tr>\n",
       "    <tr>\n",
       "      <th>11</th>\n",
       "      <td>medallion lace teddy</td>\n",
       "      <td>884</td>\n",
       "    </tr>\n",
       "    <tr>\n",
       "      <th>12</th>\n",
       "      <td>classic</td>\n",
       "      <td>706</td>\n",
       "    </tr>\n",
       "    <tr>\n",
       "      <th>13</th>\n",
       "      <td>sport underwear</td>\n",
       "      <td>679</td>\n",
       "    </tr>\n",
       "    <tr>\n",
       "      <th>14</th>\n",
       "      <td>deep v crop</td>\n",
       "      <td>622</td>\n",
       "    </tr>\n",
       "    <tr>\n",
       "      <th>15</th>\n",
       "      <td>lace cross-front unlined halter</td>\n",
       "      <td>620</td>\n",
       "    </tr>\n",
       "    <tr>\n",
       "      <th>16</th>\n",
       "      <td>longline</td>\n",
       "      <td>609</td>\n",
       "    </tr>\n",
       "    <tr>\n",
       "      <th>17</th>\n",
       "      <td>the floral lace sexy shortie</td>\n",
       "      <td>599</td>\n",
       "    </tr>\n",
       "    <tr>\n",
       "      <th>18</th>\n",
       "      <td>satin &amp; lace babydoll</td>\n",
       "      <td>511</td>\n",
       "    </tr>\n",
       "    <tr>\n",
       "      <th>19</th>\n",
       "      <td>raw cut high-waist brief</td>\n",
       "      <td>496</td>\n",
       "    </tr>\n",
       "    <tr>\n",
       "      <th>20</th>\n",
       "      <td>plunge</td>\n",
       "      <td>473</td>\n",
       "    </tr>\n",
       "  </tbody>\n",
       "</table>\n",
       "</div>"
      ],
      "text/plain": [
       "                           category  count\n",
       "10                        racerback   1186\n",
       "11             medallion lace teddy    884\n",
       "12                          classic    706\n",
       "13                  sport underwear    679\n",
       "14                      deep v crop    622\n",
       "15  lace cross-front unlined halter    620\n",
       "16                         longline    609\n",
       "17     the floral lace sexy shortie    599\n",
       "18            satin & lace babydoll    511\n",
       "19         raw cut high-waist brief    496\n",
       "20                           plunge    473"
      ]
     },
     "execution_count": 58,
     "metadata": {},
     "output_type": "execute_result"
    }
   ],
   "source": [
    "#Research again\n",
    "df_cat = categories['product_category'].value_counts()\n",
    "df_cat = pd.DataFrame(df_cat)\n",
    "df_cat = df_cat.reset_index()\n",
    "df_cat.columns = ['category', 'count']\n",
    "df_cat.loc[10:20]"
   ]
  },
  {
   "cell_type": "code",
   "execution_count": 59,
   "metadata": {},
   "outputs": [
    {
     "data": {
      "text/plain": [
       "product_category         \n",
       "bra                          413463\n",
       "panties                      108239\n",
       "lingerie                      31389\n",
       "collections                   16768\n",
       "shorties                      14754\n",
       "                              ...  \n",
       "glass water bottle                9\n",
       "washed canvas tote                9\n",
       "bridal robe                       7\n",
       "metal water bottle                6\n",
       "coconut waters travel kit         3\n",
       "Length: 65, dtype: int64"
      ]
     },
     "execution_count": 59,
     "metadata": {},
     "output_type": "execute_result"
    }
   ],
   "source": [
    "#Undies\n",
    "categories.loc[categories.product_category.str.contains(\"undies|undy|undie\"), 'product_category'] = \"undies\"\n",
    "\n",
    "#Top\n",
    "categories.loc[categories.product_category.str.contains(\"tank|longline|top|deep v crop|unlined demi\"), 'product_category'] = \"top\"\n",
    "\n",
    "#Sleep Underwear\n",
    "categories.loc[categories.product_category.str.contains(\"sleepwear|sleep|kimono\"), 'product_category'] = \"sleep underwear\"\n",
    "\n",
    "#Shorties\n",
    "categories.loc[categories.product_category.str.contains(\"shortie|shorties|short|racerback|raw cut|slip|lace\"), 'product_category'] = \"shorties\"\n",
    "\n",
    "categories.value_counts()"
   ]
  },
  {
   "cell_type": "code",
   "execution_count": 60,
   "metadata": {},
   "outputs": [
    {
     "name": "stdout",
     "output_type": "stream",
     "text": [
      "0.85\n"
     ]
    }
   ],
   "source": [
    "#We still have 65 categories and I don't know how to reduce significantly this number.\n",
    "#I am trying to see if I can drop some underepresented categories.\n",
    "\n",
    "df_cat = categories['product_category'].value_counts()\n",
    "df_cat = pd.DataFrame(df_cat)\n",
    "df_cat = df_cat.reset_index()\n",
    "df_cat.columns = ['category', 'count']\n",
    "\n",
    "top_cats = sum(df_cat['count'][:15])\n",
    "oth_cats = sum(df_cat['count'][15:])\n",
    "print (round(((oth_cats/(oth_cats+top_cats))*100),2))"
   ]
  },
  {
   "cell_type": "code",
   "execution_count": null,
   "metadata": {},
   "outputs": [],
   "source": [
    "#So, the 15 most represented categories represent 99.15% of the total\n",
    "#And all the other (50 categories) only 0.85%."
   ]
  },
  {
   "cell_type": "code",
   "execution_count": 61,
   "metadata": {},
   "outputs": [
    {
     "name": "stdout",
     "output_type": "stream",
     "text": [
      "The limit defined allow us to drop 1.04% of the values.\n"
     ]
    }
   ],
   "source": [
    "#Defining a limit, equal to 0.1% of the values (about 600)\n",
    "\n",
    "lim = (np.sum(df_cat['count']))/1000\n",
    "lim = int(lim)\n",
    "\n",
    "df_lim = df_cat.loc[(df_cat['count'] > lim)]\n",
    "\n",
    "kc = np.sum(df_lim['count'])\n",
    "kp = (kc/1000) / lim\n",
    "print(f\"The limit defined allow us to drop {round((1-kp)*100,2)}% of the values.\")"
   ]
  },
  {
   "cell_type": "code",
   "execution_count": 62,
   "metadata": {},
   "outputs": [],
   "source": [
    "#Saving all the categories to drop (because they represent less than 0.1% of the total) into a list\n",
    "\n",
    "df = df.reset_index(drop=True)\n",
    "categories = categories.reset_index(drop=True)\n",
    "cat_to_drop = list(df_cat.loc[df_cat['count'] < lim].category)"
   ]
  },
  {
   "cell_type": "code",
   "execution_count": 63,
   "metadata": {},
   "outputs": [
    {
     "data": {
      "text/plain": [
       "bra                          413463\n",
       "panties                      108239\n",
       "lingerie                      31389\n",
       "collections                   16768\n",
       "shorties                      14754\n",
       "                              ...  \n",
       "glass water bottle                9\n",
       "washed canvas tote                9\n",
       "bridal robe                       7\n",
       "metal water bottle                6\n",
       "coconut waters travel kit         3\n",
       "Name: product_category, Length: 65, dtype: int64"
      ]
     },
     "execution_count": 63,
     "metadata": {},
     "output_type": "execute_result"
    }
   ],
   "source": [
    "df['product_category'] = categories['product_category']\n",
    "df.product_category.value_counts()"
   ]
  },
  {
   "cell_type": "code",
   "execution_count": 64,
   "metadata": {},
   "outputs": [],
   "source": [
    "#Dropping all those categories. Again, I am using the not operator instead of drop and updating my df variable\n",
    "#with this, because it allow me to avoid reloading all the notebook if I want to go back and undo this action.\n",
    "df = df[~df['product_category'].isin(cat_to_drop)]"
   ]
  },
  {
   "cell_type": "code",
   "execution_count": 65,
   "metadata": {},
   "outputs": [
    {
     "data": {
      "text/plain": [
       "bra                413463\n",
       "panties            108239\n",
       "lingerie            31389\n",
       "collections         16768\n",
       "shorties            14754\n",
       "bikini               8122\n",
       "boybriefs            4826\n",
       "undies               4032\n",
       "top                  2804\n",
       "sleep underwear       827\n",
       "classic               706\n",
       "sport underwear       679\n",
       "Name: product_category, dtype: int64"
      ]
     },
     "execution_count": 65,
     "metadata": {},
     "output_type": "execute_result"
    }
   ],
   "source": [
    "df.product_category.value_counts()"
   ]
  },
  {
   "cell_type": "code",
   "execution_count": 66,
   "metadata": {},
   "outputs": [
    {
     "data": {
      "text/plain": [
       "<AxesSubplot:xlabel='count', ylabel='product_category'>"
      ]
     },
     "execution_count": 66,
     "metadata": {},
     "output_type": "execute_result"
    },
    {
     "data": {
      "image/png": "[encoded data removed]",
      "text/plain": [
       "<Figure size 432x288 with 1 Axes>"
      ]
     },
     "metadata": {},
     "output_type": "display_data"
    }
   ],
   "source": [
    "#I assume that this is probably not the best cleaning, because bra is much overrepresented, in comparaison to the others\n",
    "#categories. But one reason is again the size of Victoria Secrets dataframe compared to the other retailers.\n",
    "sns.countplot(data=df,y='product_category')"
   ]
  },
  {
   "cell_type": "markdown",
   "metadata": {},
   "source": [
    "So, bra and panties are the most sold categories, by far."
   ]
  },
  {
   "cell_type": "code",
   "execution_count": 67,
   "metadata": {},
   "outputs": [
    {
     "data": {
      "text/plain": [
       "<matplotlib.legend.Legend at 0x1e283a85760>"
      ]
     },
     "execution_count": 67,
     "metadata": {},
     "output_type": "execute_result"
    },
    {
     "data": {
      "image/png": "[encoded data removed]",
      "text/plain": [
       "<Figure size 432x288 with 1 Axes>"
      ]
     },
     "metadata": {},
     "output_type": "display_data"
    }
   ],
   "source": [
    "#We can draw a distplot for the bra category and observe the result.\n",
    "sns.kdeplot(data=df.loc[df['product_category']=='bra']['price'],color='blue')\n",
    "sns.kdeplot(data=df.loc[df['product_category']=='bra']['mrp'],color='red')\n",
    "plt.xlim(0,75)\n",
    "plt.legend(labels=['Max Retail Price','Observed Price'])"
   ]
  },
  {
   "cell_type": "code",
   "execution_count": 68,
   "metadata": {},
   "outputs": [
    {
     "data": {
      "text/plain": [
       "(0.0, 100.0)"
      ]
     },
     "execution_count": 68,
     "metadata": {},
     "output_type": "execute_result"
    },
    {
     "data": {
      "image/png": "[encoded data removed]",
      "text/plain": [
       "<Figure size 432x288 with 1 Axes>"
      ]
     },
     "metadata": {},
     "output_type": "display_data"
    }
   ],
   "source": [
    "sns.kdeplot(data=df.loc[df['product_category']=='bra']['price'],color='blue')\n",
    "sns.kdeplot(data=df.loc[df['product_category']=='panties']['price'],color='red')\n",
    "sns.kdeplot(data=df.loc[df['product_category']=='shorties']['price'],color='green')\n",
    "sns.kdeplot(data=df.loc[df['product_category']=='lingerie']['price'],color='yellow')\n",
    "sns.kdeplot(data=df.loc[df['product_category']=='collections']['price'],color='orange')\n",
    "plt.xlim(0,100)"
   ]
  },
  {
   "cell_type": "code",
   "execution_count": 70,
   "metadata": {},
   "outputs": [
    {
     "data": {
      "text/plain": [
       "(0.0, 100.0)"
      ]
     },
     "execution_count": 70,
     "metadata": {},
     "output_type": "execute_result"
    },
    {
     "data": {
      "image/png": "[encoded data removed]",
      "text/plain": [
       "<Figure size 432x288 with 1 Axes>"
      ]
     },
     "metadata": {},
     "output_type": "display_data"
    }
   ],
   "source": [
    "sns.boxplot(data=df,x='price',y='product_category')\n",
    "plt.xlim(0,100)"
   ]
  },
  {
   "cell_type": "markdown",
   "metadata": {},
   "source": [
    "Some osbervations about the different prices distribution across categories :\n",
    "    - Panties, Boybriefs, Unides and Classic are very cheap and the distribution is very condensed. There are some expensive panties, but it look like boybriefs, undies and classic are always less than 15-20usd.\n",
    "    Most of the other products, except sport underwear, have price that are most of the time between 20 and 50 usd.\n",
    "    -Sport underwear is much more expensive than the rest of the categories."
   ]
  },
  {
   "cell_type": "code",
   "execution_count": 71,
   "metadata": {},
   "outputs": [
    {
     "data": {
      "text/plain": [
       "<AxesSubplot:xlabel='brand', ylabel='product_category'>"
      ]
     },
     "execution_count": 71,
     "metadata": {},
     "output_type": "execute_result"
    },
    {
     "data": {
      "image/png": "[encoded data removed]",
      "text/plain": [
       "<Figure size 432x288 with 2 Axes>"
      ]
     },
     "metadata": {},
     "output_type": "display_data"
    }
   ],
   "source": [
    "#Same process as did before, we can save value_counts result into a new pd df and observe the result on a heatmap\n",
    "cat_by_brands = pd.DataFrame(df[['product_category', 'brand_name']].value_counts())\n",
    "cat_by_brands = cat_by_brands.reset_index()\n",
    "cat_by_brands.columns = ['product_category', 'brand','count']\n",
    "cat_by_brands.sort_values(by='brand')\n",
    "\n",
    "cat_pivot = cat_by_brands.pivot('product_category','brand','count')\n",
    "#Again, we have to set a vmax becausse bra is overrepresented in Victoria's Secret and create a huge lack of readability\n",
    "sns.heatmap(data=cat_pivot ,cmap='Greens',vmin=0,vmax=30000)"
   ]
  },
  {
   "cell_type": "markdown",
   "metadata": {},
   "source": [
    "**11.b) Which products are sold most?**"
   ]
  },
  {
   "cell_type": "code",
   "execution_count": 72,
   "metadata": {},
   "outputs": [
    {
     "data": {
      "text/plain": [
       "Body by Victoria Perfect Coverage Bra                     17922\n",
       "Victoria Sport Incredible by Victoria Sport Bra           12274\n",
       "Dream Angels Push-Up Bra                                  11878\n",
       "Very Sexy Push-Up Bra                                     10985\n",
       "Body by Victoria Demi Bra                                 10881\n",
       "                                                          ...  \n",
       "Black Velvet Bralet by Y.A.S                                  1\n",
       "Firm Control Visual Effects Minimizing Camisole 803210        1\n",
       "Strappy Mesh Bralet                                           1\n",
       "'BARE - Eve' Natural Rise Thong                               1\n",
       "Contrast Strappy Thong                                        1\n",
       "Name: product_name, Length: 2783, dtype: int64"
      ]
     },
     "execution_count": 72,
     "metadata": {},
     "output_type": "execute_result"
    }
   ],
   "source": [
    "df.product_name.value_counts()"
   ]
  },
  {
   "cell_type": "markdown",
   "metadata": {},
   "source": [
    "**11.c) Which products have the highest ratings?**"
   ]
  },
  {
   "cell_type": "code",
   "execution_count": 73,
   "metadata": {},
   "outputs": [
    {
     "name": "stdout",
     "output_type": "stream",
     "text": [
      "Over the 229340 rates, 19770 have the max rating (5/5), or8.62% of the total\n",
      "Over the 2783 distinct products, 275 have the max rating (5/5), or 9.88% of the total\n"
     ]
    }
   ],
   "source": [
    "#First let compute the highest rating and how many notes & products fall into this\n",
    "\n",
    "#Finding the max rating\n",
    "max_rating = df['rating'].max()\n",
    "\n",
    "#Count non-rateds rows\n",
    "nan_rating = df['rating'].isnull().sum()\n",
    "\n",
    "#How many rows have the max rate\n",
    "nb_max_rating = len(df.loc[df.rating == max_rating])\n",
    "\n",
    "#How many rows have a rate\n",
    "nb_rated = len(df) - nan_rating\n",
    "\n",
    "#How many rows have the max rate, in proportion of the number of rates\n",
    "prop_max_rating = round((nb_max_rating / nb_rated)*100,2)\n",
    "\n",
    "#Total uniques products into the df\n",
    "unique_products = np.count_nonzero(df['product_name'].unique())\n",
    "\n",
    "#Total uniques products that have the max rate\n",
    "nb_max_rated_products = np.count_nonzero(df[df.rating == max_rating]['product_name'].unique())\n",
    "\n",
    "#Unique products with the max rate in proportion to the total number of unique products\n",
    "prop_products = round((nb_max_rated_products / unique_products)*100,2)\n",
    "\n",
    "#Printing the result\n",
    "print(f\"Over the {nb_rated} rates, {nb_max_rating} have the max rating ({int(max_rating)}/5), or {prop_max_rating}% of the total\")\n",
    "print(f\"Over the {unique_products} distinct products, {nb_max_rated_products} have the max rating ({int(max_rating)}/5), or {prop_products}% of the total\")"
   ]
  },
  {
   "cell_type": "code",
   "execution_count": 74,
   "metadata": {},
   "outputs": [
    {
     "data": {
      "text/plain": [
       "Aerie Cheeky                                   891\n",
       "Signature Lace Original Rise Thong             781\n",
       "Aerie Everyday Loves Lace Cheeky               493\n",
       "Aerie Boybrief                                 488\n",
       "Signature Lace *Petite Size* Low Rise Thong    469\n",
       "                                              ... \n",
       "Seamless Hipster Briefs                          2\n",
       "Underwired Lace Bra                              2\n",
       "No VPL Thong                                     2\n",
       "'Topshop' Logo Seamless Bra                      1\n",
       "Criss Cross Lace Mini Knickers                   1\n",
       "Name: product_name, Length: 275, dtype: int64"
      ]
     },
     "execution_count": 74,
     "metadata": {},
     "output_type": "execute_result"
    }
   ],
   "source": [
    "#What are those products?\n",
    "df.loc[df.rating == max_rating]['product_name'].value_counts()"
   ]
  },
  {
   "cell_type": "code",
   "execution_count": 237,
   "metadata": {},
   "outputs": [
    {
     "data": {
      "text/plain": [
       "<AxesSubplot:xlabel='count', ylabel='product_name'>"
      ]
     },
     "execution_count": 237,
     "metadata": {},
     "output_type": "execute_result"
    },
    {
     "data": {
      "image/png": "[encoded data removed]",
      "text/plain": [
       "<Figure size 432x288 with 1 Axes>"
      ]
     },
     "metadata": {},
     "output_type": "display_data"
    }
   ],
   "source": [
    "#Let now plot the 10 largest values and the brand of those products\n",
    "\n",
    "#First saving value_counts into a variable\n",
    "maxrated_products = df.loc[df.rating == max_rating]['product_name'].value_counts()\n",
    "\n",
    "#Ensure we count only max_rated products\n",
    "df_maxrt = df.loc[df.rating == max_rating]\n",
    "\n",
    "#Then extracting a dataframe with only the products that are 10 largest in value counts\n",
    "df_tenlargest_products = df_maxrt[df_maxrt.product_name.isin(maxrated_products.nlargest(10).index)]\n",
    "\n",
    "#Finally plot the result and adding the brand\n",
    "sns.countplot(data=df_tenlargest_products,y='product_name',hue='brand_name',palette='Set2')"
   ]
  },
  {
   "cell_type": "code",
   "execution_count": 76,
   "metadata": {},
   "outputs": [],
   "source": [
    "#Founded another way to plot more simply with pandas\n",
    "#df[df.product_name.isin(maxrated_products.nlargest(10).index)]['product_name'].value_counts().plot(kind=\"bar\")"
   ]
  },
  {
   "cell_type": "code",
   "execution_count": 77,
   "metadata": {},
   "outputs": [
    {
     "data": {
      "text/plain": [
       "<AxesSubplot:xlabel='count', ylabel='product_category'>"
      ]
     },
     "execution_count": 77,
     "metadata": {},
     "output_type": "execute_result"
    },
    {
     "data": {
      "image/png": "[encoded data removed]",
      "text/plain": [
       "<Figure size 432x288 with 1 Axes>"
      ]
     },
     "metadata": {},
     "output_type": "display_data"
    }
   ],
   "source": [
    "#A bit more information about those products : category & retailers\n",
    "sns.countplot(data=df_maxrt_prods,y='product_category',hue='retailer',palette='Set1')"
   ]
  },
  {
   "cell_type": "markdown",
   "metadata": {},
   "source": [
    "**11.d) What are the top sellers (sold most and best ratings)?**\n"
   ]
  },
  {
   "cell_type": "code",
   "execution_count": 78,
   "metadata": {},
   "outputs": [
    {
     "data": {
      "text/plain": [
       "<AxesSubplot:xlabel='retailer'>"
      ]
     },
     "execution_count": 78,
     "metadata": {},
     "output_type": "execute_result"
    },
    {
     "data": {
      "image/png": "[encoded data removed]",
      "text/plain": [
       "<Figure size 432x288 with 1 Axes>"
      ]
     },
     "metadata": {},
     "output_type": "display_data"
    }
   ],
   "source": [
    "#Top retailers\n",
    "df.loc[df.rating == max_rating][['retailer']].value_counts().plot(kind='bar')"
   ]
  },
  {
   "cell_type": "code",
   "execution_count": 232,
   "metadata": {},
   "outputs": [
    {
     "data": {
      "text/plain": [
       "<AxesSubplot:xlabel='brand_name'>"
      ]
     },
     "execution_count": 232,
     "metadata": {},
     "output_type": "execute_result"
    },
    {
     "data": {
      "image/png": "[encoded data removed]",
      "text/plain": [
       "<Figure size 432x288 with 1 Axes>"
      ]
     },
     "metadata": {},
     "output_type": "display_data"
    }
   ],
   "source": [
    "#And top brands\n",
    "df.loc[df.rating == max_rating][['brand_name']].value_counts().plot(kind='bar')"
   ]
  },
  {
   "cell_type": "code",
   "execution_count": 80,
   "metadata": {},
   "outputs": [
    {
     "data": {
      "text/plain": [
       "retailer            brand_name        \n",
       "Hankypanky US       Hanky Panky           6308\n",
       "Ae US               aerie                 4523\n",
       "Macys US            wacoal                2423\n",
       "                    Calvin Klein          2135\n",
       "Victoriassecret US  victoria secret       1482\n",
       "Macys US            Hanky Panky           1123\n",
       "Nordstrom US        Hanky Panky            612\n",
       "                    wacoal                 483\n",
       "                    Calvin Klein           210\n",
       "Macys US            vanity fair            191\n",
       "Amazon US           Calvin Klein           157\n",
       "Topshop US          us topshop             121\n",
       "Nordstrom US        nordstrom lingerie       2\n",
       "dtype: int64"
      ]
     },
     "execution_count": 80,
     "metadata": {},
     "output_type": "execute_result"
    }
   ],
   "source": [
    "df.loc[df.rating == max_rating][['retailer', 'brand_name']].value_counts()"
   ]
  },
  {
   "cell_type": "markdown",
   "metadata": {},
   "source": [
    "**11.e) What is the top product color (sold most and best ratings)?**"
   ]
  },
  {
   "cell_type": "code",
   "execution_count": 81,
   "metadata": {},
   "outputs": [
    {
     "data": {
      "text/plain": [
       "color                \n",
       "Black                    2044\n",
       "White                    1107\n",
       "Chai                      709\n",
       "Navy                      638\n",
       "True Black                601\n",
       "                         ... \n",
       "TBC                         2\n",
       "LILAC                       1\n",
       "Light Aglow                 1\n",
       "Lilac Sachet                1\n",
       "Tango Red/Coral Blush       1\n",
       "Length: 389, dtype: int64"
      ]
     },
     "execution_count": 81,
     "metadata": {},
     "output_type": "execute_result"
    }
   ],
   "source": [
    "#Black is the top product color\n",
    "df.loc[df.rating == max_rating][['color']].value_counts()"
   ]
  },
  {
   "cell_type": "markdown",
   "metadata": {},
   "source": [
    "**Question 12:**\n",
    "\n",
    "Consider all dataframes (you might concat them all into one after having processed them separately).\n",
    "\n",
    "- how can you assess an overall rating for a brand based on the ratings of its products?\n",
    "- according to your definition, which brands have the best ratings?\n",
    "- which types of products sold by all brands? (you might have to process the product category strings) and which product of these categories are sold by all brands?\n",
    "- among these products, which brands has the best ratings?"
   ]
  },
  {
   "cell_type": "markdown",
   "metadata": {},
   "source": [
    "**12.a) How can you assess an overall rating for a brand based on the ratings of its products?**"
   ]
  },
  {
   "cell_type": "code",
   "execution_count": 82,
   "metadata": {},
   "outputs": [
    {
     "data": {
      "text/plain": [
       "count    229340.000000\n",
       "mean          4.258477\n",
       "std           0.522665\n",
       "min           0.000000\n",
       "25%           4.000000\n",
       "50%           4.300000\n",
       "75%           4.500000\n",
       "max           5.000000\n",
       "Name: rating, dtype: float64"
      ]
     },
     "execution_count": 82,
     "metadata": {},
     "output_type": "execute_result"
    }
   ],
   "source": [
    "#First checking desc stats for the rating column\n",
    "df.rating.describe()"
   ]
  },
  {
   "cell_type": "code",
   "execution_count": 94,
   "metadata": {},
   "outputs": [
    {
     "name": "stdout",
     "output_type": "stream",
     "text": [
      "['Ae US'] 25 %\n",
      "['Amazon US'] 0 %\n",
      "['Btemptd US'] 100 %\n",
      "['Calvin Klein US'] 100 %\n",
      "['Hankypanky US'] 74 %\n",
      "['Macys US'] 36 %\n",
      "['Nordstrom US'] 37 %\n",
      "['Topshop US'] 91 %\n",
      "['Victoriassecret US'] 69 %\n"
     ]
    }
   ],
   "source": [
    "#we can see how many n.a. values we have for every df (equal to every retailer)\n",
    "for i in df_list :\n",
    "    print(i.retailer.unique(),int(((i.rating.isnull().sum()/len(i))*100)),'%')"
   ]
  },
  {
   "cell_type": "code",
   "execution_count": null,
   "metadata": {},
   "outputs": [],
   "source": [
    "#A lot of rates are missing, including 100%  for Calvin Klein, and 91% for Topshop."
   ]
  },
  {
   "cell_type": "code",
   "execution_count": 150,
   "metadata": {},
   "outputs": [
    {
     "data": {
      "text/html": [
       "<div>\n",
       "<style scoped>\n",
       "    .dataframe tbody tr th:only-of-type {\n",
       "        vertical-align: middle;\n",
       "    }\n",
       "\n",
       "    .dataframe tbody tr th {\n",
       "        vertical-align: top;\n",
       "    }\n",
       "\n",
       "    .dataframe thead th {\n",
       "        text-align: right;\n",
       "    }\n",
       "</style>\n",
       "<table border=\"1\" class=\"dataframe\">\n",
       "  <thead>\n",
       "    <tr style=\"text-align: right;\">\n",
       "      <th></th>\n",
       "      <th>count</th>\n",
       "      <th>mean</th>\n",
       "      <th>std</th>\n",
       "      <th>min</th>\n",
       "      <th>25%</th>\n",
       "      <th>50%</th>\n",
       "      <th>75%</th>\n",
       "      <th>max</th>\n",
       "    </tr>\n",
       "    <tr>\n",
       "      <th>brand_name</th>\n",
       "      <th></th>\n",
       "      <th></th>\n",
       "      <th></th>\n",
       "      <th></th>\n",
       "      <th></th>\n",
       "      <th></th>\n",
       "      <th></th>\n",
       "      <th></th>\n",
       "    </tr>\n",
       "  </thead>\n",
       "  <tbody>\n",
       "    <tr>\n",
       "      <th>Calvin Klein</th>\n",
       "      <td>18126.0</td>\n",
       "      <td>4.34</td>\n",
       "      <td>0.50</td>\n",
       "      <td>0.0</td>\n",
       "      <td>4.0</td>\n",
       "      <td>4.4</td>\n",
       "      <td>4.7</td>\n",
       "      <td>5.0</td>\n",
       "    </tr>\n",
       "    <tr>\n",
       "      <th>Hanky Panky</th>\n",
       "      <td>16100.0</td>\n",
       "      <td>4.74</td>\n",
       "      <td>0.43</td>\n",
       "      <td>0.0</td>\n",
       "      <td>4.6</td>\n",
       "      <td>4.9</td>\n",
       "      <td>5.0</td>\n",
       "      <td>5.0</td>\n",
       "    </tr>\n",
       "    <tr>\n",
       "      <th>aerie</th>\n",
       "      <td>17671.0</td>\n",
       "      <td>4.33</td>\n",
       "      <td>0.72</td>\n",
       "      <td>1.0</td>\n",
       "      <td>4.0</td>\n",
       "      <td>4.5</td>\n",
       "      <td>5.0</td>\n",
       "      <td>5.0</td>\n",
       "    </tr>\n",
       "    <tr>\n",
       "      <th>nordstrom lingerie</th>\n",
       "      <td>853.0</td>\n",
       "      <td>3.54</td>\n",
       "      <td>0.48</td>\n",
       "      <td>2.7</td>\n",
       "      <td>3.3</td>\n",
       "      <td>3.5</td>\n",
       "      <td>4.0</td>\n",
       "      <td>5.0</td>\n",
       "    </tr>\n",
       "    <tr>\n",
       "      <th>us topshop</th>\n",
       "      <td>266.0</td>\n",
       "      <td>4.25</td>\n",
       "      <td>1.01</td>\n",
       "      <td>1.0</td>\n",
       "      <td>4.0</td>\n",
       "      <td>4.7</td>\n",
       "      <td>5.0</td>\n",
       "      <td>5.0</td>\n",
       "    </tr>\n",
       "    <tr>\n",
       "      <th>vanity fair</th>\n",
       "      <td>2437.0</td>\n",
       "      <td>4.49</td>\n",
       "      <td>0.38</td>\n",
       "      <td>0.0</td>\n",
       "      <td>4.4</td>\n",
       "      <td>4.5</td>\n",
       "      <td>4.8</td>\n",
       "      <td>5.0</td>\n",
       "    </tr>\n",
       "    <tr>\n",
       "      <th>victoria secret</th>\n",
       "      <td>137050.0</td>\n",
       "      <td>4.17</td>\n",
       "      <td>0.49</td>\n",
       "      <td>0.0</td>\n",
       "      <td>4.0</td>\n",
       "      <td>4.3</td>\n",
       "      <td>4.5</td>\n",
       "      <td>5.0</td>\n",
       "    </tr>\n",
       "    <tr>\n",
       "      <th>wacoal</th>\n",
       "      <td>36837.0</td>\n",
       "      <td>4.32</td>\n",
       "      <td>0.43</td>\n",
       "      <td>0.0</td>\n",
       "      <td>4.2</td>\n",
       "      <td>4.3</td>\n",
       "      <td>4.4</td>\n",
       "      <td>5.0</td>\n",
       "    </tr>\n",
       "  </tbody>\n",
       "</table>\n",
       "</div>"
      ],
      "text/plain": [
       "                       count  mean   std  min  25%  50%  75%  max\n",
       "brand_name                                                       \n",
       "Calvin Klein         18126.0  4.34  0.50  0.0  4.0  4.4  4.7  5.0\n",
       "Hanky Panky          16100.0  4.74  0.43  0.0  4.6  4.9  5.0  5.0\n",
       "aerie                17671.0  4.33  0.72  1.0  4.0  4.5  5.0  5.0\n",
       "nordstrom lingerie     853.0  3.54  0.48  2.7  3.3  3.5  4.0  5.0\n",
       "us topshop             266.0  4.25  1.01  1.0  4.0  4.7  5.0  5.0\n",
       "vanity fair           2437.0  4.49  0.38  0.0  4.4  4.5  4.8  5.0\n",
       "victoria secret     137050.0  4.17  0.49  0.0  4.0  4.3  4.5  5.0\n",
       "wacoal               36837.0  4.32  0.43  0.0  4.2  4.3  4.4  5.0"
      ]
     },
     "execution_count": 150,
     "metadata": {},
     "output_type": "execute_result"
    }
   ],
   "source": [
    "#First, we can try to observe somes stats of the rating by brand\n",
    "df.groupby('brand_name').rating.describe().round(2)"
   ]
  },
  {
   "cell_type": "code",
   "execution_count": 99,
   "metadata": {},
   "outputs": [
    {
     "data": {
      "text/plain": [
       "<AxesSubplot:xlabel='rating', ylabel='brand_name'>"
      ]
     },
     "execution_count": 99,
     "metadata": {},
     "output_type": "execute_result"
    },
    {
     "data": {
      "image/png": "[encoded data removed]",
      "text/plain": [
       "<Figure size 432x288 with 1 Axes>"
      ]
     },
     "metadata": {},
     "output_type": "display_data"
    }
   ],
   "source": [
    "#Checking the distribution by brand\n",
    "sns.boxplot(data=df, y='brand_name',x='rating')"
   ]
  },
  {
   "cell_type": "code",
   "execution_count": 133,
   "metadata": {},
   "outputs": [
    {
     "data": {
      "text/plain": [
       "<AxesSubplot:>"
      ]
     },
     "execution_count": 133,
     "metadata": {},
     "output_type": "execute_result"
    },
    {
     "data": {
      "image/png": "[encoded data removed]",
      "text/plain": [
       "<Figure size 432x288 with 2 Axes>"
      ]
     },
     "metadata": {},
     "output_type": "display_data"
    }
   ],
   "source": [
    "#Just curious to see if rating has a linear relationship with some other variables.\n",
    "corr_matrix = df.corr()\n",
    "sns.heatmap(corr_matrix, annot=True)"
   ]
  },
  {
   "cell_type": "code",
   "execution_count": null,
   "metadata": {},
   "outputs": [],
   "source": [
    "#Apparently, not at all."
   ]
  },
  {
   "cell_type": "code",
   "execution_count": 142,
   "metadata": {},
   "outputs": [
    {
     "data": {
      "text/plain": [
       "brand_name\n",
       "nordstrom lingerie    3.5\n",
       "victoria secret       4.3\n",
       "wacoal                4.3\n",
       "Calvin Klein          4.4\n",
       "aerie                 4.5\n",
       "vanity fair           4.5\n",
       "us topshop            4.7\n",
       "Hanky Panky           4.9\n",
       "Name: rating, dtype: float64"
      ]
     },
     "execution_count": 142,
     "metadata": {},
     "output_type": "execute_result"
    }
   ],
   "source": [
    "#Finally, we could simply take the median as an overall rating of the brand based on the rating of the products.\n",
    "groupedbrands.rating.median().sort_values()"
   ]
  },
  {
   "cell_type": "code",
   "execution_count": 148,
   "metadata": {},
   "outputs": [
    {
     "data": {
      "text/html": [
       "<div>\n",
       "<style scoped>\n",
       "    .dataframe tbody tr th:only-of-type {\n",
       "        vertical-align: middle;\n",
       "    }\n",
       "\n",
       "    .dataframe tbody tr th {\n",
       "        vertical-align: top;\n",
       "    }\n",
       "\n",
       "    .dataframe thead th {\n",
       "        text-align: right;\n",
       "    }\n",
       "</style>\n",
       "<table border=\"1\" class=\"dataframe\">\n",
       "  <thead>\n",
       "    <tr style=\"text-align: right;\">\n",
       "      <th></th>\n",
       "      <th>rating</th>\n",
       "    </tr>\n",
       "    <tr>\n",
       "      <th>brand_name</th>\n",
       "      <th></th>\n",
       "    </tr>\n",
       "  </thead>\n",
       "  <tbody>\n",
       "    <tr>\n",
       "      <th>nordstrom lingerie</th>\n",
       "      <td>3.5</td>\n",
       "    </tr>\n",
       "    <tr>\n",
       "      <th>victoria secret</th>\n",
       "      <td>4.3</td>\n",
       "    </tr>\n",
       "    <tr>\n",
       "      <th>wacoal</th>\n",
       "      <td>4.3</td>\n",
       "    </tr>\n",
       "    <tr>\n",
       "      <th>Calvin Klein</th>\n",
       "      <td>4.4</td>\n",
       "    </tr>\n",
       "    <tr>\n",
       "      <th>aerie</th>\n",
       "      <td>4.5</td>\n",
       "    </tr>\n",
       "    <tr>\n",
       "      <th>vanity fair</th>\n",
       "      <td>4.5</td>\n",
       "    </tr>\n",
       "    <tr>\n",
       "      <th>us topshop</th>\n",
       "      <td>4.7</td>\n",
       "    </tr>\n",
       "    <tr>\n",
       "      <th>Hanky Panky</th>\n",
       "      <td>4.9</td>\n",
       "    </tr>\n",
       "  </tbody>\n",
       "</table>\n",
       "</div>"
      ],
      "text/plain": [
       "                    rating\n",
       "brand_name                \n",
       "nordstrom lingerie     3.5\n",
       "victoria secret        4.3\n",
       "wacoal                 4.3\n",
       "Calvin Klein           4.4\n",
       "aerie                  4.5\n",
       "vanity fair            4.5\n",
       "us topshop             4.7\n",
       "Hanky Panky            4.9"
      ]
     },
     "execution_count": 148,
     "metadata": {},
     "output_type": "execute_result"
    }
   ],
   "source": [
    "#Savinf the rate into a df\n",
    "rating_score = pd.DataFrame(groupedbrands.rating.median().sort_values())\n",
    "rating_score"
   ]
  },
  {
   "cell_type": "markdown",
   "metadata": {},
   "source": [
    "**12.b) According to your definition, which brands have the best ratings?**"
   ]
  },
  {
   "cell_type": "code",
   "execution_count": null,
   "metadata": {},
   "outputs": [],
   "source": [
    "#According to the median, Hanky Panky have the highest rating, followed by us topshop."
   ]
  },
  {
   "cell_type": "markdown",
   "metadata": {},
   "source": [
    "**12.c) Which types of products sold by all brands? And which product of these categories are sold by all brands?**"
   ]
  },
  {
   "cell_type": "code",
   "execution_count": 159,
   "metadata": {},
   "outputs": [
    {
     "data": {
      "text/plain": [
       "<AxesSubplot:xlabel='brand', ylabel='product_category'>"
      ]
     },
     "execution_count": 159,
     "metadata": {},
     "output_type": "execute_result"
    },
    {
     "data": {
      "image/png": "[encoded data removed]",
      "text/plain": [
       "<Figure size 432x288 with 2 Axes>"
      ]
     },
     "metadata": {},
     "output_type": "display_data"
    }
   ],
   "source": [
    "sns.heatmap(data=cat_pivot ,cmap='Greens',vmin=0,vmax=1)"
   ]
  },
  {
   "cell_type": "code",
   "execution_count": null,
   "metadata": {},
   "outputs": [],
   "source": [
    "#Us topshop sell only \"lingerie\" category. This is probably due to a bad category cleaning from me.\n",
    "#Maybe US Topshop use a different lexic to describe its products.\n",
    "#But bra & panties are the categories that are sold by almost each retailer."
   ]
  },
  {
   "cell_type": "code",
   "execution_count": 173,
   "metadata": {},
   "outputs": [
    {
     "data": {
      "text/html": [
       "<div>\n",
       "<style scoped>\n",
       "    .dataframe tbody tr th:only-of-type {\n",
       "        vertical-align: middle;\n",
       "    }\n",
       "\n",
       "    .dataframe tbody tr th {\n",
       "        vertical-align: top;\n",
       "    }\n",
       "\n",
       "    .dataframe thead th {\n",
       "        text-align: right;\n",
       "    }\n",
       "</style>\n",
       "<table border=\"1\" class=\"dataframe\">\n",
       "  <thead>\n",
       "    <tr style=\"text-align: right;\">\n",
       "      <th></th>\n",
       "      <th>product</th>\n",
       "      <th>brand</th>\n",
       "      <th>count</th>\n",
       "    </tr>\n",
       "  </thead>\n",
       "  <tbody>\n",
       "    <tr>\n",
       "      <th>0</th>\n",
       "      <td>Body by Victoria Perfect Coverage Bra</td>\n",
       "      <td>victoria secret</td>\n",
       "      <td>17922</td>\n",
       "    </tr>\n",
       "    <tr>\n",
       "      <th>1</th>\n",
       "      <td>Victoria Sport Incredible by Victoria Sport Bra</td>\n",
       "      <td>victoria secret</td>\n",
       "      <td>12274</td>\n",
       "    </tr>\n",
       "    <tr>\n",
       "      <th>2</th>\n",
       "      <td>Dream Angels Push-Up Bra</td>\n",
       "      <td>victoria secret</td>\n",
       "      <td>11878</td>\n",
       "    </tr>\n",
       "    <tr>\n",
       "      <th>3</th>\n",
       "      <td>Very Sexy Push-Up Bra</td>\n",
       "      <td>victoria secret</td>\n",
       "      <td>10985</td>\n",
       "    </tr>\n",
       "    <tr>\n",
       "      <th>4</th>\n",
       "      <td>Body by Victoria Demi Bra</td>\n",
       "      <td>victoria secret</td>\n",
       "      <td>10881</td>\n",
       "    </tr>\n",
       "    <tr>\n",
       "      <th>...</th>\n",
       "      <td>...</td>\n",
       "      <td>...</td>\n",
       "      <td>...</td>\n",
       "    </tr>\n",
       "    <tr>\n",
       "      <th>939</th>\n",
       "      <td>retro calvin short</td>\n",
       "      <td>Calvin Klein</td>\n",
       "      <td>1</td>\n",
       "    </tr>\n",
       "    <tr>\n",
       "      <th>940</th>\n",
       "      <td>seamless bikini</td>\n",
       "      <td>Calvin Klein</td>\n",
       "      <td>1</td>\n",
       "    </tr>\n",
       "    <tr>\n",
       "      <th>941</th>\n",
       "      <td>40th Anniversary Hanky Cami</td>\n",
       "      <td>Hanky Panky</td>\n",
       "      <td>1</td>\n",
       "    </tr>\n",
       "    <tr>\n",
       "      <th>942</th>\n",
       "      <td>hashtag triangle bralette</td>\n",
       "      <td>Calvin Klein</td>\n",
       "      <td>1</td>\n",
       "    </tr>\n",
       "    <tr>\n",
       "      <th>943</th>\n",
       "      <td>Comfort X3 Full-Coverage Satin Bra 75364</td>\n",
       "      <td>vanity fair</td>\n",
       "      <td>1</td>\n",
       "    </tr>\n",
       "  </tbody>\n",
       "</table>\n",
       "<p>944 rows × 3 columns</p>\n",
       "</div>"
      ],
      "text/plain": [
       "                                             product            brand  count\n",
       "0              Body by Victoria Perfect Coverage Bra  victoria secret  17922\n",
       "1    Victoria Sport Incredible by Victoria Sport Bra  victoria secret  12274\n",
       "2                           Dream Angels Push-Up Bra  victoria secret  11878\n",
       "3                              Very Sexy Push-Up Bra  victoria secret  10985\n",
       "4                          Body by Victoria Demi Bra  victoria secret  10881\n",
       "..                                               ...              ...    ...\n",
       "939                               retro calvin short     Calvin Klein      1\n",
       "940                                  seamless bikini     Calvin Klein      1\n",
       "941                      40th Anniversary Hanky Cami      Hanky Panky      1\n",
       "942                        hashtag triangle bralette     Calvin Klein      1\n",
       "943         Comfort X3 Full-Coverage Satin Bra 75364      vanity fair      1\n",
       "\n",
       "[944 rows x 3 columns]"
      ]
     },
     "execution_count": 173,
     "metadata": {},
     "output_type": "execute_result"
    }
   ],
   "source": [
    "#contains bra\n",
    "prod_bra = pd.DataFrame(df.loc[df.product_category == 'bra'][['product_name','brand_name']].value_counts())\n",
    "prod_bra = prod_bra.reset_index()\n",
    "prod_bra.columns = ['product', 'brand','count']\n",
    "prod_bra"
   ]
  },
  {
   "cell_type": "code",
   "execution_count": 179,
   "metadata": {},
   "outputs": [
    {
     "data": {
      "text/plain": [
       "<AxesSubplot:xlabel='brand', ylabel='product'>"
      ]
     },
     "execution_count": 179,
     "metadata": {},
     "output_type": "execute_result"
    },
    {
     "data": {
      "image/png": "[encoded data removed]",
      "text/plain": [
       "<Figure size 432x288 with 2 Axes>"
      ]
     },
     "metadata": {},
     "output_type": "display_data"
    }
   ],
   "source": [
    "prod_bra_pivot = prod_bra.pivot('product','brand','count')\n",
    "sns.heatmap(data=prod_bra_pivot ,cmap='Reds',vmin=0,vmax=1)"
   ]
  },
  {
   "cell_type": "code",
   "execution_count": 238,
   "metadata": {},
   "outputs": [],
   "source": [
    "top_products = prod_bra['product'].value_counts()"
   ]
  },
  {
   "cell_type": "code",
   "execution_count": 239,
   "metadata": {},
   "outputs": [],
   "source": [
    "largest_product = prod_bra[prod_bra['product'].isin(top_products.nlargest(3).index)]"
   ]
  },
  {
   "cell_type": "code",
   "execution_count": 241,
   "metadata": {},
   "outputs": [
    {
     "data": {
      "text/html": [
       "<div>\n",
       "<style scoped>\n",
       "    .dataframe tbody tr th:only-of-type {\n",
       "        vertical-align: middle;\n",
       "    }\n",
       "\n",
       "    .dataframe tbody tr th {\n",
       "        vertical-align: top;\n",
       "    }\n",
       "\n",
       "    .dataframe thead th {\n",
       "        text-align: right;\n",
       "    }\n",
       "</style>\n",
       "<table border=\"1\" class=\"dataframe\">\n",
       "  <thead>\n",
       "    <tr style=\"text-align: right;\">\n",
       "      <th></th>\n",
       "      <th>product</th>\n",
       "      <th>brand</th>\n",
       "      <th>count</th>\n",
       "    </tr>\n",
       "  </thead>\n",
       "  <tbody>\n",
       "    <tr>\n",
       "      <th>443</th>\n",
       "      <td>Bralette</td>\n",
       "      <td>wacoal</td>\n",
       "      <td>44</td>\n",
       "    </tr>\n",
       "    <tr>\n",
       "      <th>471</th>\n",
       "      <td>Bralette</td>\n",
       "      <td>Calvin Klein</td>\n",
       "      <td>40</td>\n",
       "    </tr>\n",
       "    <tr>\n",
       "      <th>698</th>\n",
       "      <td>Convertible Underwire Push-Up Bra</td>\n",
       "      <td>Calvin Klein</td>\n",
       "      <td>18</td>\n",
       "    </tr>\n",
       "    <tr>\n",
       "      <th>810</th>\n",
       "      <td>Convertible Underwire Push-Up Bra</td>\n",
       "      <td>wacoal</td>\n",
       "      <td>11</td>\n",
       "    </tr>\n",
       "    <tr>\n",
       "      <th>379</th>\n",
       "      <td>Triangle Bralette</td>\n",
       "      <td>Calvin Klein</td>\n",
       "      <td>57</td>\n",
       "    </tr>\n",
       "    <tr>\n",
       "      <th>585</th>\n",
       "      <td>Triangle Bralette</td>\n",
       "      <td>wacoal</td>\n",
       "      <td>26</td>\n",
       "    </tr>\n",
       "    <tr>\n",
       "      <th>830</th>\n",
       "      <td>Triangle Bralette</td>\n",
       "      <td>Hanky Panky</td>\n",
       "      <td>10</td>\n",
       "    </tr>\n",
       "  </tbody>\n",
       "</table>\n",
       "</div>"
      ],
      "text/plain": [
       "                               product         brand  count\n",
       "443                           Bralette        wacoal     44\n",
       "471                           Bralette  Calvin Klein     40\n",
       "698  Convertible Underwire Push-Up Bra  Calvin Klein     18\n",
       "810  Convertible Underwire Push-Up Bra        wacoal     11\n",
       "379                  Triangle Bralette  Calvin Klein     57\n",
       "585                  Triangle Bralette        wacoal     26\n",
       "830                  Triangle Bralette   Hanky Panky     10"
      ]
     },
     "execution_count": 241,
     "metadata": {},
     "output_type": "execute_result"
    }
   ],
   "source": [
    "largest_product.sort_values(by='product')"
   ]
  },
  {
   "cell_type": "code",
   "execution_count": null,
   "metadata": {},
   "outputs": [],
   "source": [
    "# I didn't find any products that is sold by all brands.\n",
    "# But we have a bralette that is sold by Calvin Klein, Wacoal and Hanky panky."
   ]
  }
 ],
 "metadata": {
  "kernelspec": {
   "display_name": "Python 3",
   "language": "python",
   "name": "python3"
  },
  "language_info": {
   "codemirror_mode": {
    "name": "ipython",
    "version": 3
   },
   "file_extension": ".py",
   "mimetype": "text/x-python",
   "name": "python",
   "nbconvert_exporter": "python",
   "pygments_lexer": "ipython3",
   "version": "3.8.5"
  }
 },
 "nbformat": 4,
 "nbformat_minor": 4
}
